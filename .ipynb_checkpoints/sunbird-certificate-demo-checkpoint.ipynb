{
 "cells": [
  {
   "cell_type": "code",
   "execution_count": 26,
   "id": "2e061262",
   "metadata": {
    "collapsed": false,
    "jupyter": {
     "outputs_hidden": false
    },
    "pycharm": {
     "name": "#%%\n"
    }
   },
   "outputs": [],
   "source": [
    "import requests\n",
    "import random\n",
    "import json\n",
    "import random\n",
    "import webbrowser"
   ]
  },
  {
   "cell_type": "code",
   "execution_count": null,
   "id": "c78bd575",
   "metadata": {
    "collapsed": false,
    "jupyter": {
     "outputs_hidden": false
    },
    "pycharm": {
     "name": "#%%\n"
    }
   },
   "outputs": [],
   "source": []
  },
  {
   "cell_type": "code",
   "execution_count": 5,
   "id": "192bd4ef",
   "metadata": {
    "collapsed": false,
    "jupyter": {
     "outputs_hidden": false
    },
    "pycharm": {
     "name": "#%%\n"
    }
   },
   "outputs": [],
   "source": [
    "registryBaseUrl = \"https://sunbirdrc-sandbox.xiv.in/registry/\"\n",
    "registryUrl = \"https://sunbirdrc-sandbox.xiv.in/registry/api/v1/\"\n",
    "keycloakUrl = \"https://sunbirdrc-sandbox.xiv.in/\"\n",
    "client_id='sandbox-client-1'\n",
    "client_secret='968e20a9-7500-465c-9117-f2d234f6a378'"
   ]
  },
  {
   "cell_type": "code",
   "execution_count": 6,
   "id": "bd36feba",
   "metadata": {
    "collapsed": false,
    "jupyter": {
     "outputs_hidden": false
    },
    "pycharm": {
     "name": "#%%\n"
    }
   },
   "outputs": [
    {
     "name": "stdout",
     "output_type": "stream",
     "text": [
      "{\"id\":\"sunbird-rc.registry.health\",\"ver\":\"1.0\",\"ets\":1662965488758,\"params\":{\"resmsgid\":\"\",\"msgid\":\"5f7627de-df67-457a-acd5-892625ba5949\",\"err\":\"\",\"status\":\"SUCCESSFUL\",\"errmsg\":\"\"},\"responseCode\":\"OK\",\"result\":{\"name\":\"sunbirdrc-registry-api\",\"healthy\":false,\"checks\":[{\"name\":\"sunbirdrc.database\",\"healthy\":true,\"err\":\"\",\"errmsg\":\"\"},{\"name\":\"sunbird.signature.service\",\"healthy\":false,\"err\":\"\",\"errmsg\":\"\"}]}}\n"
     ]
    }
   ],
   "source": [
    "response = requests.get('%s/health'%(registryBaseUrl))\n",
    "print(response.text)\n",
    "assert response.status_code == 200 "
   ]
  },
  {
   "cell_type": "markdown",
   "id": "a987032a",
   "metadata": {
    "pycharm": {
     "name": "#%% md\n"
    }
   },
   "source": [
    "# get client token\n"
   ]
  },
  {
   "cell_type": "code",
   "execution_count": 10,
   "id": "81e9691e",
   "metadata": {
    "collapsed": false,
    "jupyter": {
     "outputs_hidden": false
    },
    "pycharm": {
     "name": "#%%\n"
    }
   },
   "outputs": [
    {
     "name": "stdout",
     "output_type": "stream",
     "text": [
      "{'access_token': 'eyJhbGciOiJSUzI1NiIsInR5cCIgOiAiSldUIiwia2lkIiA6ICJNWjA2UEVqTWlfNW5uejE5ZEprZmtDVTFDQkM5elpVYVhuM2NYemUxVjgwIn0.eyJleHAiOjE2NjI5NjYxNTMsImlhdCI6MTY2Mjk2NTU1MywianRpIjoiYWQyZDA5M2EtMTI0Ny00YzNiLTk3NTItMzFmZjcxMDRiNmM1IiwiaXNzIjoiaHR0cHM6Ly9zdW5iaXJkcmMtc2FuZGJveC54aXYuaW4vYXV0aC9yZWFsbXMvc3VuYmlyZC1yYyIsImF1ZCI6ImFjY291bnQiLCJzdWIiOiI0MWUzYzk5Ni05MjE5LTRkMjYtYTc4OS0xM2VkMGM5NjcwZTYiLCJ0eXAiOiJCZWFyZXIiLCJhenAiOiJzYW5kYm94LWNsaWVudC0xIiwiYWNyIjoiMSIsInJlYWxtX2FjY2VzcyI6eyJyb2xlcyI6WyJvZmZsaW5lX2FjY2VzcyIsImFkbWluIiwidW1hX2F1dGhvcml6YXRpb24iLCJkZWZhdWx0LXJvbGVzLW5kZWFyIl19LCJyZXNvdXJjZV9hY2Nlc3MiOnsiYWNjb3VudCI6eyJyb2xlcyI6WyJtYW5hZ2UtYWNjb3VudCIsIm1hbmFnZS1hY2NvdW50LWxpbmtzIiwidmlldy1wcm9maWxlIl19fSwic2NvcGUiOiJwcm9maWxlIGVtYWlsIiwiY2xpZW50SWQiOiJzYW5kYm94LWNsaWVudC0xIiwiZW1haWxfdmVyaWZpZWQiOmZhbHNlLCJjbGllbnRIb3N0IjoiMTA2LjUxLjM3LjEwNiIsInByZWZlcnJlZF91c2VybmFtZSI6InNlcnZpY2UtYWNjb3VudC1zYW5kYm94LWNsaWVudC0xIiwiY2xpZW50QWRkcmVzcyI6IjEwNi41MS4zNy4xMDYifQ.F9hazW2HrxD7SOWDnA7g09QsC5Vsnr2nlePdh0ttJfWYqN0lr9G70y0B7poqkCgayeuWzZryWDIJvOAziKaEwN9uLGfzwduH6yei2H6GHiB50Q56wbxmxyeN5S4_AUYMP8abgAt8vrCUcPhLMcc1hPIVr3r6z18vYHsQ4vf14f6ixLPteCIOkWuUUdqh6asVQkqgaB0hstnQhxsOumRm3mSc_P2K74fKxjbCWwx_nfO6oMx0BBv02WieXQ2lJzBDRVEt-mOQotfKbEfwLsqodZAbi4fOK6hVna6_KreriHw43hubX-btqmak387J9tNA0TLDoE07thuhBekTYKc9tw', 'expires_in': 600, 'refresh_expires_in': 0, 'token_type': 'Bearer', 'not-before-policy': 1607576887, 'scope': 'profile email'}\n",
      "eyJhbGciOiJSUzI1NiIsInR5cCIgOiAiSldUIiwia2lkIiA6ICJNWjA2UEVqTWlfNW5uejE5ZEprZmtDVTFDQkM5elpVYVhuM2NYemUxVjgwIn0.eyJleHAiOjE2NjI5NjYxNTMsImlhdCI6MTY2Mjk2NTU1MywianRpIjoiYWQyZDA5M2EtMTI0Ny00YzNiLTk3NTItMzFmZjcxMDRiNmM1IiwiaXNzIjoiaHR0cHM6Ly9zdW5iaXJkcmMtc2FuZGJveC54aXYuaW4vYXV0aC9yZWFsbXMvc3VuYmlyZC1yYyIsImF1ZCI6ImFjY291bnQiLCJzdWIiOiI0MWUzYzk5Ni05MjE5LTRkMjYtYTc4OS0xM2VkMGM5NjcwZTYiLCJ0eXAiOiJCZWFyZXIiLCJhenAiOiJzYW5kYm94LWNsaWVudC0xIiwiYWNyIjoiMSIsInJlYWxtX2FjY2VzcyI6eyJyb2xlcyI6WyJvZmZsaW5lX2FjY2VzcyIsImFkbWluIiwidW1hX2F1dGhvcml6YXRpb24iLCJkZWZhdWx0LXJvbGVzLW5kZWFyIl19LCJyZXNvdXJjZV9hY2Nlc3MiOnsiYWNjb3VudCI6eyJyb2xlcyI6WyJtYW5hZ2UtYWNjb3VudCIsIm1hbmFnZS1hY2NvdW50LWxpbmtzIiwidmlldy1wcm9maWxlIl19fSwic2NvcGUiOiJwcm9maWxlIGVtYWlsIiwiY2xpZW50SWQiOiJzYW5kYm94LWNsaWVudC0xIiwiZW1haWxfdmVyaWZpZWQiOmZhbHNlLCJjbGllbnRIb3N0IjoiMTA2LjUxLjM3LjEwNiIsInByZWZlcnJlZF91c2VybmFtZSI6InNlcnZpY2UtYWNjb3VudC1zYW5kYm94LWNsaWVudC0xIiwiY2xpZW50QWRkcmVzcyI6IjEwNi41MS4zNy4xMDYifQ.F9hazW2HrxD7SOWDnA7g09QsC5Vsnr2nlePdh0ttJfWYqN0lr9G70y0B7poqkCgayeuWzZryWDIJvOAziKaEwN9uLGfzwduH6yei2H6GHiB50Q56wbxmxyeN5S4_AUYMP8abgAt8vrCUcPhLMcc1hPIVr3r6z18vYHsQ4vf14f6ixLPteCIOkWuUUdqh6asVQkqgaB0hstnQhxsOumRm3mSc_P2K74fKxjbCWwx_nfO6oMx0BBv02WieXQ2lJzBDRVEt-mOQotfKbEfwLsqodZAbi4fOK6hVna6_KreriHw43hubX-btqmak387J9tNA0TLDoE07thuhBekTYKc9tw\n"
     ]
    }
   ],
   "source": [
    "def getToken(clientId, clientSecret):\n",
    "    headers = {\n",
    "        'content-type': 'application/x-www-form-urlencoded',\n",
    "    }\n",
    "\n",
    "    data = {\n",
    "      'client_id': clientId,\n",
    "      'client_secret': clientSecret,\n",
    "      'grant_type': 'client_credentials'\n",
    "    }\n",
    "\n",
    "    response = requests.post('%sauth/realms/sunbird-rc/protocol/openid-connect/token'%(keycloakUrl), headers=headers, data=data)\n",
    "    print(response.json())\n",
    "#     print(response.status_code)\n",
    "    token = response.json()[\"access_token\"]\n",
    "    return token\n",
    "\n",
    "token = getToken(client_id, client_secret)\n",
    "print(token)"
   ]
  },
  {
   "cell_type": "markdown",
   "id": "97983956",
   "metadata": {
    "pycharm": {
     "name": "#%% md\n"
    }
   },
   "source": [
    "# create a schema"
   ]
  },
  {
   "cell_type": "code",
   "execution_count": 11,
   "id": "57a2dd03",
   "metadata": {
    "collapsed": false,
    "jupyter": {
     "outputs_hidden": false
    },
    "pycharm": {
     "name": "#%%\n"
    }
   },
   "outputs": [
    {
     "name": "stdout",
     "output_type": "stream",
     "text": [
      "200\n",
      "{\"id\":\"sunbird-rc.registry.create\",\"ver\":\"1.0\",\"ets\":1662965689440,\"params\":{\"resmsgid\":\"\",\"msgid\":\"9baa413b-546b-4f74-8170-ac05161eae85\",\"err\":\"\",\"status\":\"SUCCESSFUL\",\"errmsg\":\"\"},\"responseCode\":\"OK\",\"result\":{\"Schema\":{\"osid\":\"1-fb450161-beed-4028-b165-efe00eba1d34\"}}}\n",
      "1-fb450161-beed-4028-b165-efe00eba1d34\n"
     ]
    }
   ],
   "source": [
    "\n",
    "schemaRequestBody = {\n",
    "  \"name\": \"TrainingCertificateV\"+str(random.randrange(0, 100,1)),\n",
    "    \"schema\": \"{\\n  \\\"$schema\\\": \\\"http://json-schema.org/draft-07/schema\\\",\\n  \\\"type\\\": \\\"object\\\",\\n  \\\"properties\\\": {\\n    \\\"TrainingCertificate\\\": {\\n      \\\"$ref\\\": \\\"#/definitions/TrainingCertificate\\\"\\n    }\\n  },\\n  \\\"required\\\": [\\n    \\\"TrainingCertificate\\\"\\n  ],\\n  \\\"title\\\": \\\"TrainingCertificate\\\",\\n  \\\"definitions\\\": {\\n    \\\"TrainingCertificate\\\": {\\n      \\\"$id\\\": \\\"#/properties/TrainingCertificate\\\",\\n      \\\"type\\\": \\\"object\\\",\\n      \\\"title\\\": \\\"The TrainingCertificate Schema\\\",\\n      \\\"required\\\": [\\n        \\\"name\\\",\\n        \\\"contact\\\"\\n      ],\\n      \\\"properties\\\": {\\n        \\\"name\\\": {\\n          \\\"type\\\": \\\"string\\\"\\n        },\\n        \\\"trainingTitle\\\": {\\n          \\\"type\\\": \\\"string\\\"\\n        },\\n        \\\"contact\\\": {\\n          \\\"type\\\": \\\"string\\\"\\n        },\\n        \\\"date\\\": {\\n          \\\"type\\\": \\\"string\\\",\\n          \\\"format\\\": \\\"date\\\"\\n        },\\n        \\\"note\\\": {\\n          \\\"type\\\": \\\"string\\\"\\n        }\\n      }\\n    }\\n  },\\n  \\\"_osConfig\\\": {\\n    \\\"uniqueIndexFields\\\": [\\n      \\\"contact\\\"\\n    ],\\n    \\\"ownershipAttributes\\\": [],\\n    \\\"roles\\\": [],\\n    \\\"inviteRoles\\\": [\\n      \\\"anonymous\\\"\\n    ],\\n    \\\"enableLogin\\\": false,\\n    \\\"credentialTemplate\\\": {\\n      \\\"@context\\\": [\\n        \\\"https://www.w3.org/2018/credentials/v1\\\",\\n        \\\"https://gist.githubusercontent.com/dileepbapat/eb932596a70f75016411cc871113a789/raw/498e5af1d94784f114b32c1ab827f951a8a24def/skill\\\"\\n      ],\\n      \\\"type\\\": [\\n        \\\"VerifiableCredential\\\"\\n      ],\\n      \\\"issuanceDate\\\": \\\"2021-08-27T10:57:57.237Z\\\",\\n      \\\"credentialSubject\\\": {\\n        \\\"type\\\": \\\"Person\\\",\\n        \\\"name\\\": \\\"{{name}}\\\",\\n        \\\"trainedOn\\\": \\\"{{trainingTitle}}\\\"\\n      },\\n      \\\"issuer\\\": \\\"did:web:sunbirdrc.dev/vc/skill\\\"\\n    },\\n    \\\"certificateTemplates\\\": {\\n      \\\"html\\\": \\\"https://raw.githubusercontent.com/dileepbapat/ref-sunbirdrc-certificate/main/schemas/templates/TrainingCertificate.html\\\",\\n      \\\"svg\\\": \\\"https://raw.githubusercontent.com/dileepbapat/ref-sunbirdrc-certificate/main/schemas/templates/TrainingCertificate.svg\\\"\\n    }\\n  }\\n}\"\n",
    "}\n",
    "headers = {\n",
    "  'Content-Type': 'application/json',\n",
    "    'Authorization': 'Bearer ' + token\n",
    "}\n",
    "\n",
    "response = requests.request(\"POST\", registryUrl + \"Schema\", headers=headers, json=schemaRequestBody)\n",
    "\n",
    "print(response.status_code)\n",
    "print(response.text)\n",
    "assert response.status_code == 200 \n",
    "schemaOsid = response.json()[\"result\"][\"Schema\"][\"osid\"]\n",
    "print(schemaOsid)"
   ]
  },
  {
   "cell_type": "code",
   "execution_count": 12,
   "id": "b5abee68",
   "metadata": {
    "collapsed": false,
    "jupyter": {
     "outputs_hidden": false
    },
    "pycharm": {
     "name": "#%%\n"
    }
   },
   "outputs": [
    {
     "data": {
      "text/plain": [
       "<Response [200]>"
      ]
     },
     "execution_count": 12,
     "metadata": {},
     "output_type": "execute_result"
    }
   ],
   "source": [
    "response"
   ]
  },
  {
   "cell_type": "markdown",
   "id": "37b5f754",
   "metadata": {
    "pycharm": {
     "name": "#%% md\n"
    }
   },
   "source": [
    "# get all schemas"
   ]
  },
  {
   "cell_type": "code",
   "execution_count": 13,
   "id": "1cdf5941",
   "metadata": {
    "collapsed": false,
    "jupyter": {
     "outputs_hidden": false
    },
    "pycharm": {
     "name": "#%%\n"
    }
   },
   "outputs": [
    {
     "name": "stdout",
     "output_type": "stream",
     "text": [
      "[{'name': 'TrainingCertificateV40', 'schema': '{\\n  \"$schema\": \"http://json-schema.org/draft-07/schema\",\\n  \"type\": \"object\",\\n  \"properties\": {\\n    \"TrainingCertificate\": {\\n      \"$ref\": \"#/definitions/TrainingCertificate\"\\n    }\\n  },\\n  \"required\": [\\n    \"TrainingCertificate\"\\n  ],\\n  \"title\": \"TrainingCertificate\",\\n  \"definitions\": {\\n    \"TrainingCertificate\": {\\n      \"$id\": \"#/properties/TrainingCertificate\",\\n      \"type\": \"object\",\\n      \"title\": \"The TrainingCertificate Schema\",\\n      \"required\": [\\n        \"name\",\\n        \"contact\"\\n      ],\\n      \"properties\": {\\n        \"name\": {\\n          \"type\": \"string\"\\n        },\\n        \"trainingTitle\": {\\n          \"type\": \"string\"\\n        },\\n        \"contact\": {\\n          \"type\": \"string\"\\n        },\\n        \"date\": {\\n          \"type\": \"string\",\\n          \"format\": \"date\"\\n        },\\n        \"note\": {\\n          \"type\": \"string\"\\n        }\\n      }\\n    }\\n  },\\n  \"_osConfig\": {\\n    \"uniqueIndexFields\": [\\n      \"contact\"\\n    ],\\n    \"ownershipAttributes\": [],\\n    \"roles\": [],\\n    \"inviteRoles\": [\\n      \"anonymous\"\\n    ],\\n    \"enableLogin\": false,\\n    \"credentialTemplate\": {\\n      \"@context\": [\\n        \"https://www.w3.org/2018/credentials/v1\",\\n        \"https://gist.githubusercontent.com/dileepbapat/eb932596a70f75016411cc871113a789/raw/498e5af1d94784f114b32c1ab827f951a8a24def/skill\"\\n      ],\\n      \"type\": [\\n        \"VerifiableCredential\"\\n      ],\\n      \"issuanceDate\": \"2021-08-27T10:57:57.237Z\",\\n      \"credentialSubject\": {\\n        \"type\": \"Person\",\\n        \"name\": \"{{name}}\",\\n        \"trainedOn\": \"{{trainingTitle}}\"\\n      },\\n      \"issuer\": \"did:web:sunbirdrc.dev/vc/skill\"\\n    },\\n    \"certificateTemplates\": {\\n      \"html\": \"https://raw.githubusercontent.com/dileepbapat/ref-sunbirdrc-certificate/main/schemas/templates/TrainingCertificate.html\",\\n      \"svg\": \"https://raw.githubusercontent.com/dileepbapat/ref-sunbirdrc-certificate/main/schemas/templates/TrainingCertificate.svg\"\\n    }\\n  }\\n}', 'osOwner': ['41e3c996-9219-4d26-a789-13ed0c9670e6'], 'osCreatedAt': '2022-09-12T06:54:49.919Z', 'osUpdatedAt': '2022-09-12T06:54:49.919Z', 'osCreatedBy': '41e3c996-9219-4d26-a789-13ed0c9670e6', 'osUpdatedBy': '41e3c996-9219-4d26-a789-13ed0c9670e6', 'osid': '1-fb450161-beed-4028-b165-efe00eba1d34'}]\n",
      "TrainingCertificateV40\n"
     ]
    }
   ],
   "source": [
    "schemaRequestBody = {\n",
    "  \"entity\": \"Schema\",\n",
    "    \"filters\": {}\n",
    "}\n",
    "headers = {\n",
    "  'Content-Type': 'application/json',\n",
    "    'Authorization': 'Bearer ' + token\n",
    "}\n",
    "\n",
    "response = requests.request(\"POST\", registryUrl + \"Schema/search\", headers=headers, json=schemaRequestBody)\n",
    "\n",
    "print(response.json())\n",
    "for j in response.json():\n",
    "    print(j['name'])"
   ]
  },
  {
   "cell_type": "code",
   "execution_count": 14,
   "id": "df755128",
   "metadata": {
    "collapsed": false,
    "jupyter": {
     "outputs_hidden": false
    },
    "pycharm": {
     "name": "#%%\n"
    }
   },
   "outputs": [
    {
     "name": "stdout",
     "output_type": "stream",
     "text": [
      "<Response [200]>\n",
      "[{'schema': '{\\n  \"$schema\": \"http://json-schema.org/draft-07/schema\",\\n  \"type\": \"object\",\\n  \"properties\": {\\n    \"TrainingCertificate\": {\\n      \"$ref\": \"#/definitions/TrainingCertificate\"\\n    }\\n  },\\n  \"required\": [\\n    \"TrainingCertificate\"\\n  ],\\n  \"title\": \"TrainingCertificate\",\\n  \"definitions\": {\\n    \"TrainingCertificate\": {\\n      \"$id\": \"#/properties/TrainingCertificate\",\\n      \"type\": \"object\",\\n      \"title\": \"The TrainingCertificate Schema\",\\n      \"required\": [\\n        \"name\",\\n        \"contact\"\\n      ],\\n      \"properties\": {\\n        \"name\": {\\n          \"type\": \"string\"\\n        },\\n        \"trainingTitle\": {\\n          \"type\": \"string\"\\n        },\\n        \"contact\": {\\n          \"type\": \"string\"\\n        },\\n        \"date\": {\\n          \"type\": \"string\",\\n          \"format\": \"date\"\\n        },\\n        \"note\": {\\n          \"type\": \"string\"\\n        }\\n      }\\n    }\\n  },\\n  \"_osConfig\": {\\n    \"uniqueIndexFields\": [\\n      \"contact\"\\n    ],\\n    \"ownershipAttributes\": [],\\n    \"roles\": [],\\n    \"inviteRoles\": [\\n      \"anonymous\"\\n    ],\\n    \"enableLogin\": false,\\n    \"credentialTemplate\": {\\n      \"@context\": [\\n        \"https://www.w3.org/2018/credentials/v1\",\\n        \"https://gist.githubusercontent.com/dileepbapat/eb932596a70f75016411cc871113a789/raw/498e5af1d94784f114b32c1ab827f951a8a24def/skill\"\\n      ],\\n      \"type\": [\\n        \"VerifiableCredential\"\\n      ],\\n      \"issuanceDate\": \"2021-08-27T10:57:57.237Z\",\\n      \"credentialSubject\": {\\n        \"type\": \"Person\",\\n        \"name\": \"{{name}}\",\\n        \"trainedOn\": \"{{trainingTitle}}\"\\n      },\\n      \"issuer\": \"did:web:sunbirdrc.dev/vc/skill\"\\n    },\\n    \"certificateTemplates\": {\\n      \"html\": \"https://raw.githubusercontent.com/dileepbapat/ref-sunbirdrc-certificate/main/schemas/templates/TrainingCertificate.html\",\\n      \"svg\": \"https://raw.githubusercontent.com/dileepbapat/ref-sunbirdrc-certificate/main/schemas/templates/TrainingCertificate.svg\"\\n    }\\n  }\\n}', 'osUpdatedAt': '2022-09-12T06:54:49.919Z', 'osCreatedAt': '2022-09-12T06:54:49.919Z', 'osUpdatedBy': '41e3c996-9219-4d26-a789-13ed0c9670e6', 'name': 'TrainingCertificateV40', 'osCreatedBy': '41e3c996-9219-4d26-a789-13ed0c9670e6', 'osid': '1-fb450161-beed-4028-b165-efe00eba1d34', 'osOwner': ['41e3c996-9219-4d26-a789-13ed0c9670e6']}]\n",
      "1\n"
     ]
    }
   ],
   "source": [
    "schemaRequestBody = {\n",
    "  \"entity\": \"Schema\",\n",
    "    \"filters\": {}\n",
    "}\n",
    "headers = {\n",
    "  'Content-Type': 'application/json',\n",
    "    'Authorization': 'Bearer ' + token\n",
    "}\n",
    "\n",
    "response = requests.request(\"GET\", registryUrl + \"Schema\", headers=headers)\n",
    "print(response)\n",
    "print(response.json())\n",
    "print(len(response.json()))"
   ]
  },
  {
   "cell_type": "code",
   "execution_count": null,
   "id": "c7ebb699",
   "metadata": {
    "collapsed": false,
    "jupyter": {
     "outputs_hidden": false
    },
    "pycharm": {
     "name": "#%%\n"
    }
   },
   "outputs": [
    {
     "name": "stdout",
     "output_type": "stream",
     "text": [
      "<Response [200]>\n",
      "[{'schema': '{\\n  \"$schema\": \"http://json-schema.org/draft-07/schema\",\\n  \"type\": \"object\",\\n  \"properties\": {\\n    \"TrainingCertificate\": {\\n      \"$ref\": \"#/definitions/TrainingCertificate\"\\n    }\\n  },\\n  \"required\": [\\n    \"TrainingCertificate\"\\n  ],\\n  \"title\": \"TrainingCertificate\",\\n  \"definitions\": {\\n    \"TrainingCertificate\": {\\n      \"$id\": \"#/properties/TrainingCertificate\",\\n      \"type\": \"object\",\\n      \"title\": \"The TrainingCertificate Schema\",\\n      \"required\": [\\n        \"name\",\\n        \"contact\"\\n      ],\\n      \"properties\": {\\n        \"name\": {\\n          \"type\": \"string\"\\n        },\\n        \"trainingTitle\": {\\n          \"type\": \"string\"\\n        },\\n        \"contact\": {\\n          \"type\": \"string\"\\n        },\\n        \"date\": {\\n          \"type\": \"string\",\\n          \"format\": \"date\"\\n        },\\n        \"note\": {\\n          \"type\": \"string\"\\n        }\\n      }\\n    }\\n  },\\n  \"_osConfig\": {\\n    \"uniqueIndexFields\": [\\n      \"contact\"\\n    ],\\n    \"ownershipAttributes\": [],\\n    \"roles\": [],\\n    \"inviteRoles\": [\\n      \"anonymous\"\\n    ],\\n    \"enableLogin\": false,\\n    \"credentialTemplate\": {\\n      \"@context\": [\\n        \"https://www.w3.org/2018/credentials/v1\",\\n        \"https://gist.githubusercontent.com/dileepbapat/eb932596a70f75016411cc871113a789/raw/498e5af1d94784f114b32c1ab827f951a8a24def/skill\"\\n      ],\\n      \"type\": [\\n        \"VerifiableCredential\"\\n      ],\\n      \"issuanceDate\": \"2021-08-27T10:57:57.237Z\",\\n      \"credentialSubject\": {\\n        \"type\": \"Person\",\\n        \"name\": \"{{name}}\",\\n        \"trainedOn\": \"{{trainingTitle}}\"\\n      },\\n      \"issuer\": \"did:web:sunbirdrc.dev/vc/skill\"\\n    },\\n    \"certificateTemplates\": {\\n      \"html\": \"https://raw.githubusercontent.com/dileepbapat/ref-sunbirdrc-certificate/main/schemas/templates/TrainingCertificate.html\",\\n      \"svg\": \"https://raw.githubusercontent.com/dileepbapat/ref-sunbirdrc-certificate/main/schemas/templates/TrainingCertificate.svg\"\\n    }\\n  }\\n}', 'osUpdatedAt': '2022-09-12T06:54:49.919Z', 'osCreatedAt': '2022-09-12T06:54:49.919Z', 'osUpdatedBy': '41e3c996-9219-4d26-a789-13ed0c9670e6', 'name': 'TrainingCertificateV40', 'osCreatedBy': '41e3c996-9219-4d26-a789-13ed0c9670e6', 'osid': '1-fb450161-beed-4028-b165-efe00eba1d34', 'osOwner': ['41e3c996-9219-4d26-a789-13ed0c9670e6']}]\n",
      "1\n"
     ]
    }
   ],
   "source": [
    "schemaRequestBody = {\n",
    "  \"entity\": \"Schema\",\n",
    "    \"filters\": {}\n",
    "}\n",
    "headers = {\n",
    "  'Content-Type': 'application/json',\n",
    "    'Authorization': 'Bearer ' + token\n",
    "}\n",
    "\n",
    "response = requests.request(\"GET\", registryUrl + \"Schema\", headers=headers)\n",
    "print(response)\n",
    "print(response.json())\n",
    "print(len(response.json()))"
   ]
  },
  {
   "cell_type": "markdown",
   "id": "bc59c6c0",
   "metadata": {
    "pycharm": {
     "name": "#%% md\n"
    }
   },
   "source": [
    "# Tests for newly added schem is here:"
   ]
  },
  {
   "cell_type": "code",
   "execution_count": 18,
   "id": "27ee7584-0874-453b-ac6e-6d2c19aa350c",
   "metadata": {
    "pycharm": {
     "name": "#%% md\n"
    }
   },
   "outputs": [
    {
     "name": "stdout",
     "output_type": "stream",
     "text": [
      "['/api/docs/TrainingCertificate.json', '/api/docs/Schema.json']\n"
     ]
    }
   ],
   "source": [
    "\n",
    "resp = requests.get(\"%sapi/docs/swagger.json\"%registryBaseUrl)\n",
    "assert resp.status_code == 200\n",
    "assert resp.json()[\"swagger\"] == \"2.0\"\n",
    "assert resp.json()[\"paths\"] != None\n",
    "\n",
    "swaggerJson = resp.json()\n",
    "swaggerJson[\"paths\"].keys()\n",
    "\n",
    "jsonUrls = [f for f in swaggerJson[\"paths\"].keys() if \".json\" in f]\n",
    "print(jsonUrls)\n",
    "jsonUrl = jsonUrls[0]\n",
    "\n",
    "resp = requests.get(\"%s%s\"%(registryBaseUrl, jsonUrl))\n",
    "assert resp.status_code == 200\n"
   ]
  },
  {
   "cell_type": "code",
   "execution_count": 19,
   "id": "ba1ed184",
   "metadata": {
    "collapsed": false,
    "jupyter": {
     "outputs_hidden": false
    },
    "pycharm": {
     "name": "#%%\n"
    }
   },
   "outputs": [
    {
     "name": "stdout",
     "output_type": "stream",
     "text": [
      "Available entities  ['TrainingCertificate']\n",
      "Using entity TrainingCertificate\n"
     ]
    }
   ],
   "source": [
    "resp.json()\n",
    "entities = list(resp.json().keys())\n",
    "print(\"Available entities \", entities)\n",
    "entity_name='TrainingCertificate'\n",
    "print(\"Using entity %s\"%entity_name)\n"
   ]
  },
  {
   "cell_type": "markdown",
   "id": "14bec66d",
   "metadata": {
    "pycharm": {
     "name": "#%% md\n"
    }
   },
   "source": [
    "# Create entity"
   ]
  },
  {
   "cell_type": "code",
   "execution_count": 20,
   "id": "a8d83aee",
   "metadata": {
    "collapsed": false,
    "jupyter": {
     "outputs_hidden": false
    },
    "pycharm": {
     "name": "#%%\n"
    }
   },
   "outputs": [
    {
     "name": "stdout",
     "output_type": "stream",
     "text": [
      "<Response [200]>\n"
     ]
    }
   ],
   "source": [
    "userId =str(random.randint(1e10,1e11))\n",
    "headers = {\n",
    "  'Content-Type': 'application/json',\n",
    "    'Authorization': 'Bearer ' + token\n",
    "}\n",
    "resp = requests.post(\"%s%s\"%(registryBaseUrl, '/api/v1/%s'%'TrainingCertificate'), json={\n",
    "    \"name\":\"Sunbird Learner\", \n",
    "    \"contact\": userId, \n",
    "    \"trainingTitle\":\"Sunbird RC Certificate Module\"\n",
    "    \n",
    "}, headers=headers)\n",
    "print(resp)\n",
    "assert resp.status_code == 200 or print (resp.text)\n",
    "idx = resp.json()[\"result\"][entity_name][\"osid\"]\n"
   ]
  },
  {
   "cell_type": "code",
   "execution_count": 21,
   "id": "3864811c",
   "metadata": {
    "collapsed": false,
    "jupyter": {
     "outputs_hidden": false
    },
    "pycharm": {
     "name": "#%%\n"
    }
   },
   "outputs": [
    {
     "name": "stdout",
     "output_type": "stream",
     "text": [
      "{'id': 'sunbird-rc.registry.create', 'ver': '1.0', 'ets': 1662965749489, 'params': {'resmsgid': '', 'msgid': '0f2db15c-0dc5-45b5-9d1a-479f46745500', 'err': '', 'status': 'SUCCESSFUL', 'errmsg': ''}, 'responseCode': 'OK', 'result': {'TrainingCertificate': {'osid': '1-e5a1b63e-bac6-4de7-937b-7efbe70b0712'}}}\n"
     ]
    }
   ],
   "source": [
    "print(resp.json())\n",
    "resp.status_code, userId\n",
    "idx = resp.json()[\"result\"][entity_name][\"osid\"]"
   ]
  },
  {
   "cell_type": "markdown",
   "id": "cf974793",
   "metadata": {
    "pycharm": {
     "name": "#%% md\n"
    }
   },
   "source": [
    "# get entity"
   ]
  },
  {
   "cell_type": "code",
   "execution_count": 22,
   "id": "5555ef0c",
   "metadata": {
    "collapsed": false,
    "jupyter": {
     "outputs_hidden": false
    },
    "pycharm": {
     "name": "#%%\n"
    }
   },
   "outputs": [
    {
     "name": "stdout",
     "output_type": "stream",
     "text": [
      "{\"@context\": [\"https://www.w3.org/2018/credentials/v1\", \"https://gist.githubusercontent.com/dileepbapat/eb932596a70f75016411cc871113a789/raw/498e5af1d94784f114b32c1ab827f951a8a24def/skill\"], \"type\": [\"VerifiableCredential\"], \"issuanceDate\": \"2021-08-27T10:57:57.237Z\", \"credentialSubject\": {\"type\": \"Person\", \"name\": \"Sunbird Learner\", \"trainedOn\": \"Sunbird RC Certificate Module\"}, \"issuer\": \"did:web:sunbirdrc.dev/vc/skill\", \"proof\": {\"type\": \"RsaSignature2018\", \"created\": \"2022-09-12T06:55:49Z\", \"verificationMethod\": \"did:india\", \"proofPurpose\": \"assertionMethod\", \"jws\": \"eyJhbGciOiJQUzI1NiIsImI2NCI6ZmFsc2UsImNyaXQiOlsiYjY0Il19..QABXZVqdHIv7kNYJGmbskU51UfEpCSQFt-ZFQiVk_okqerr-EP-0ZLAescnKMqOlidreNxFOmZll41gnAPemI3fgO8SXFqI1_QfWI0HjkzE803ZXp81QQ27Vj4IUOJlp8BHsJeH3z-udstMwDxxkRG1bQiMmh3mslcnqv8brBXqI7Cad6iKZzBRBLbkri-ZY_qY9iii3p_WlYHqXyMLGCwmx7lY7798mbSg-JjBP8jNFBY1I41bW_o3nH-ncQGToKqDmWDxNckMnG-YxxXJJA1ydWLxmlaKxDeWDg4IXLA73JZHJoxb2FJVgZ4CcgNGRlDJzMhcDud5sUI8jBzTLaA\"}}\n"
     ]
    }
   ],
   "source": [
    "headers = {\n",
    "  'Content-Type': 'application/json',\n",
    "    'Authorization': 'Bearer ' + token,\n",
    "    \"Accept\":\"application/vc+ld+json\"\n",
    "}\n",
    "resp = requests.get(\"%sapi/v1/%s/%s\"%(registryBaseUrl, entity_name, idx), headers=headers)\n",
    "print(json.dumps(resp.json()))\n",
    "assert resp.json()[\"proof\"][\"type\"] == \"RsaSignature2018\"\n"
   ]
  },
  {
   "cell_type": "markdown",
   "id": "8b18fc5b",
   "metadata": {
    "pycharm": {
     "name": "#%% md\n"
    }
   },
   "source": [
    "# get certificate pdf"
   ]
  },
  {
   "cell_type": "code",
   "execution_count": 23,
   "id": "43198014",
   "metadata": {
    "collapsed": false,
    "jupyter": {
     "outputs_hidden": false
    },
    "pycharm": {
     "name": "#%%\n"
    }
   },
   "outputs": [
    {
     "data": {
      "text/plain": [
       "[]"
      ]
     },
     "execution_count": 23,
     "metadata": {},
     "output_type": "execute_result"
    }
   ],
   "source": [
    "headers = {\n",
    "  'Content-Type': 'application/json',\n",
    "    'Authorization': 'Bearer ' + token,\n",
    "\"Accept\":\"application/pdf\", \n",
    "    \"template\": \"https://raw.githubusercontent.com/dileepbapat/ref-sunbirdrc-certificate/main/schemas/templates/TrainingCertificate.html\"\n",
    "}\n",
    "resp = requests.get(\"%s/api/v1/%s/%s\"%(registryBaseUrl, entity_name, idx), headers=headers)\n",
    "(resp.status_code, resp.content)\n",
    "\n",
    "assert resp.content[:5].decode().startswith(\"%PDF\")\n",
    "with open('sample.pdf', 'wb') as f:\n",
    "    f.write(resp.content)\n",
    "\n",
    "%system open 'sample.pdf'"
   ]
  },
  {
   "cell_type": "markdown",
   "id": "158ab405",
   "metadata": {
    "pycharm": {
     "name": "#%% md\n"
    }
   },
   "source": [
    "# Delete schema"
   ]
  },
  {
   "cell_type": "code",
   "execution_count": null,
   "id": "447cae26-5154-48f0-a5b9-729e5371da32",
   "metadata": {},
   "outputs": [],
   "source": []
  },
  {
   "cell_type": "code",
   "execution_count": 24,
   "id": "df3876e8",
   "metadata": {
    "collapsed": false,
    "jupyter": {
     "outputs_hidden": false
    },
    "pycharm": {
     "name": "#%%\n"
    }
   },
   "outputs": [
    {
     "name": "stdout",
     "output_type": "stream",
     "text": [
      "<Response [200]>\n",
      "{'id': 'sunbird-rc.registry.delete', 'ver': '1.0', 'ets': 1662965760002, 'params': {'resmsgid': '', 'msgid': 'a0e7f014-2d61-4326-935d-f7e7093e45f0', 'err': '', 'status': 'SUCCESSFUL', 'errmsg': ''}, 'responseCode': 'OK'}\n",
      "5\n"
     ]
    }
   ],
   "source": [
    "schemaRequestBody = {\n",
    "  \"entity\": \"Schema\",\n",
    "    \"filters\": {}\n",
    "}\n",
    "headers = {\n",
    "  'Content-Type': 'application/json',\n",
    "    'Authorization': 'Bearer ' + token\n",
    "}\n",
    "\n",
    "response = requests.request(\"DELETE\", registryUrl + \"Schema/\"+schemaOsid, headers=headers)\n",
    "print(response)\n",
    "print(response.json())\n",
    "print(len(response.json()))"
   ]
  },
  {
   "cell_type": "markdown",
   "id": "3d158ab2-da90-4224-ab94-f51bf251ae86",
   "metadata": {},
   "source": [
    "# Verify Certificate"
   ]
  },
  {
   "cell_type": "code",
   "execution_count": 28,
   "id": "5f9972a8-c76c-416e-846e-7d50b969f9d6",
   "metadata": {},
   "outputs": [
    {
     "data": {
      "text/plain": [
       "True"
      ]
     },
     "execution_count": 28,
     "metadata": {},
     "output_type": "execute_result"
    }
   ],
   "source": [
    "webbrowser.open(keycloakUrl)"
   ]
  },
  {
   "cell_type": "code",
   "execution_count": null,
   "id": "e05574cd-832b-407e-9888-8aef0edaad8c",
   "metadata": {},
   "outputs": [],
   "source": []
  }
 ],
 "metadata": {
  "kernelspec": {
   "display_name": "Python 3 (ipykernel)",
   "language": "python",
   "name": "python3"
  },
  "language_info": {
   "codemirror_mode": {
    "name": "ipython",
    "version": 3
   },
   "file_extension": ".py",
   "mimetype": "text/x-python",
   "name": "python",
   "nbconvert_exporter": "python",
   "pygments_lexer": "ipython3",
   "version": "3.9.13"
  }
 },
 "nbformat": 4,
 "nbformat_minor": 5
}
