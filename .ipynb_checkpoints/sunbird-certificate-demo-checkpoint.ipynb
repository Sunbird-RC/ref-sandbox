{
 "cells": [
  {
   "cell_type": "code",
   "execution_count": 1,
   "id": "c9e62b35-8012-4614-9d3d-e9212e7b698f",
   "metadata": {
    "pycharm": {
     "is_executing": false,
     "name": "#%%\n"
    }
   },
   "outputs": [],
   "source": [
    "import requests\n",
    "import random\n",
    "import json\n"
   ]
  },
  {
   "cell_type": "code",
   "execution_count": null,
   "id": "626b7b38-1773-4d3d-b1df-2e53f9372700",
   "metadata": {
    "pycharm": {
     "name": "#%%\n"
    }
   },
   "outputs": [],
   "source": []
  },
  {
   "cell_type": "code",
   "execution_count": 2,
   "id": "bc7348d4-396b-4319-b6f8-47c210dc0768",
   "metadata": {
    "pycharm": {
     "is_executing": false,
     "name": "#%%\n"
    }
   },
   "outputs": [],
   "source": [
    "registryBaseUrl = \"https://sunbirdrc-sandbox.xiv.in/registry/\"\n",
    "registryUrl = \"https://sunbirdrc-sandbox.xiv.in/registry/api/v1/\"\n",
    "keycloakUrl = \"https://sunbirdrc-sandbox.xiv.in/\""
   ]
  },
  {
   "cell_type": "code",
   "execution_count": 3,
   "id": "fdc92d91-f63e-4a0c-94c0-1d4d9b304fb3",
   "metadata": {},
   "outputs": [
    {
     "name": "stdout",
     "output_type": "stream",
     "text": [
      "{\"id\":\"sunbird-rc.registry.health\",\"ver\":\"1.0\",\"ets\":1661328161100,\"params\":{\"resmsgid\":\"\",\"msgid\":\"07b37b0d-eb66-4309-ad09-d00f8c5ae9e8\",\"err\":\"\",\"status\":\"SUCCESSFUL\",\"errmsg\":\"\"},\"responseCode\":\"OK\",\"result\":{\"name\":\"sunbirdrc-registry-api\",\"healthy\":false,\"checks\":[{\"name\":\"sunbirdrc.database\",\"healthy\":true,\"err\":\"\",\"errmsg\":\"\"},{\"name\":\"sunbird.signature.service\",\"healthy\":false,\"err\":\"\",\"errmsg\":\"\"}]}}\n"
     ]
    }
   ],
   "source": [
    "response = requests.get('%s/health'%(registryBaseUrl))\n",
    "print(response.text)\n",
    "assert response.status_code == 200 "
   ]
  },
  {
   "cell_type": "markdown",
   "id": "28ce5762-04ab-4fb2-b4ee-180a57e2d769",
   "metadata": {
    "pycharm": {
     "name": "#%% md\n"
    }
   },
   "source": [
    "# get client token\n"
   ]
  },
  {
   "cell_type": "code",
   "execution_count": 4,
   "id": "959b097e-bc94-449c-87e9-fbb12cd3694f",
   "metadata": {
    "pycharm": {
     "name": "#%%\n"
    }
   },
   "outputs": [
    {
     "name": "stdout",
     "output_type": "stream",
     "text": [
      "{'access_token': 'eyJhbGciOiJSUzI1NiIsInR5cCIgOiAiSldUIiwia2lkIiA6ICJFZVU5R2xvNTIzUXMxQk53eHNNTzZyZW9zaFFJNk5fcTNYUGJWdHRsbXBrIn0.eyJleHAiOjE2NjEzMjg3NjIsImlhdCI6MTY2MTMyODE2MiwianRpIjoiODViNzRjOGEtNmQzMC00YWE3LWI5ZTgtNTJiZmYzMGE2NGU1IiwiaXNzIjoiaHR0cHM6Ly9zdW5iaXJkcmMtc2FuZGJveC54aXYuaW4vYXV0aC9yZWFsbXMvc3VuYmlyZC1yYyIsImF1ZCI6ImFjY291bnQiLCJzdWIiOiI3ZDEzOWQxNS04MzkwLTQyZTctYmNmNi1lZWViZTk5NmFiZjAiLCJ0eXAiOiJCZWFyZXIiLCJhenAiOiJzYW5kYm94LWNsaWVudC0xIiwiYWNyIjoiMSIsInJlYWxtX2FjY2VzcyI6eyJyb2xlcyI6WyJvZmZsaW5lX2FjY2VzcyIsImFkbWluIiwidW1hX2F1dGhvcml6YXRpb24iLCJkZWZhdWx0LXJvbGVzLW5kZWFyIl19LCJyZXNvdXJjZV9hY2Nlc3MiOnsiYWNjb3VudCI6eyJyb2xlcyI6WyJtYW5hZ2UtYWNjb3VudCIsIm1hbmFnZS1hY2NvdW50LWxpbmtzIiwidmlldy1wcm9maWxlIl19fSwic2NvcGUiOiJwcm9maWxlIGVtYWlsIiwiY2xpZW50SWQiOiJzYW5kYm94LWNsaWVudC0xIiwiY2xpZW50SG9zdCI6IjQzLjIyNC4xMjkuMTM2IiwiZW1haWxfdmVyaWZpZWQiOmZhbHNlLCJwcmVmZXJyZWRfdXNlcm5hbWUiOiJzZXJ2aWNlLWFjY291bnQtc2FuZGJveC1jbGllbnQtMSIsImNsaWVudEFkZHJlc3MiOiI0My4yMjQuMTI5LjEzNiJ9.JgrpJPKznxTFUaGoYAeOY3yOuV-ICbhwfguiDy6cqYRhEMJ1DoJV04-SsvzCDqCB84GrJlUlTRtdD5qPyLN44CmiVaUFn5YyygpBJdc07TiVBiK-zNqSy1__vXQvo7sIH2Y6IW28GB6BYB9qTVGbjTS4KvWylc2JOA_Jnq0a1K9TvZ1zqlYYzqadfLPFrb_cQTiZ3xmtQdTJJQJaqebBfHuBh5KZIi-UupHNFdaoQ94e7F0-snpRN2V_DkuX-Qityicn0QPgpFRSUWy10CXQzhISJNrl9IOLncgpDoA0pcngn-IanKXuTqq5Wrh1b6PJeylqwtRZke0DkIMyPnkELw', 'expires_in': 600, 'refresh_expires_in': 0, 'token_type': 'Bearer', 'not-before-policy': 1607576887, 'scope': 'profile email'}\n",
      "eyJhbGciOiJSUzI1NiIsInR5cCIgOiAiSldUIiwia2lkIiA6ICJFZVU5R2xvNTIzUXMxQk53eHNNTzZyZW9zaFFJNk5fcTNYUGJWdHRsbXBrIn0.eyJleHAiOjE2NjEzMjg3NjIsImlhdCI6MTY2MTMyODE2MiwianRpIjoiODViNzRjOGEtNmQzMC00YWE3LWI5ZTgtNTJiZmYzMGE2NGU1IiwiaXNzIjoiaHR0cHM6Ly9zdW5iaXJkcmMtc2FuZGJveC54aXYuaW4vYXV0aC9yZWFsbXMvc3VuYmlyZC1yYyIsImF1ZCI6ImFjY291bnQiLCJzdWIiOiI3ZDEzOWQxNS04MzkwLTQyZTctYmNmNi1lZWViZTk5NmFiZjAiLCJ0eXAiOiJCZWFyZXIiLCJhenAiOiJzYW5kYm94LWNsaWVudC0xIiwiYWNyIjoiMSIsInJlYWxtX2FjY2VzcyI6eyJyb2xlcyI6WyJvZmZsaW5lX2FjY2VzcyIsImFkbWluIiwidW1hX2F1dGhvcml6YXRpb24iLCJkZWZhdWx0LXJvbGVzLW5kZWFyIl19LCJyZXNvdXJjZV9hY2Nlc3MiOnsiYWNjb3VudCI6eyJyb2xlcyI6WyJtYW5hZ2UtYWNjb3VudCIsIm1hbmFnZS1hY2NvdW50LWxpbmtzIiwidmlldy1wcm9maWxlIl19fSwic2NvcGUiOiJwcm9maWxlIGVtYWlsIiwiY2xpZW50SWQiOiJzYW5kYm94LWNsaWVudC0xIiwiY2xpZW50SG9zdCI6IjQzLjIyNC4xMjkuMTM2IiwiZW1haWxfdmVyaWZpZWQiOmZhbHNlLCJwcmVmZXJyZWRfdXNlcm5hbWUiOiJzZXJ2aWNlLWFjY291bnQtc2FuZGJveC1jbGllbnQtMSIsImNsaWVudEFkZHJlc3MiOiI0My4yMjQuMTI5LjEzNiJ9.JgrpJPKznxTFUaGoYAeOY3yOuV-ICbhwfguiDy6cqYRhEMJ1DoJV04-SsvzCDqCB84GrJlUlTRtdD5qPyLN44CmiVaUFn5YyygpBJdc07TiVBiK-zNqSy1__vXQvo7sIH2Y6IW28GB6BYB9qTVGbjTS4KvWylc2JOA_Jnq0a1K9TvZ1zqlYYzqadfLPFrb_cQTiZ3xmtQdTJJQJaqebBfHuBh5KZIi-UupHNFdaoQ94e7F0-snpRN2V_DkuX-Qityicn0QPgpFRSUWy10CXQzhISJNrl9IOLncgpDoA0pcngn-IanKXuTqq5Wrh1b6PJeylqwtRZke0DkIMyPnkELw\n"
     ]
    }
   ],
   "source": [
    "def getToken(clientId, clientSecret):\n",
    "    headers = {\n",
    "        'content-type': 'application/x-www-form-urlencoded',\n",
    "    }\n",
    "\n",
    "    data = {\n",
    "      'client_id': clientId,\n",
    "      'client_secret': clientSecret,\n",
    "      'grant_type': 'client_credentials'\n",
    "    }\n",
    "\n",
    "    response = requests.post('%sauth/realms/sunbird-rc/protocol/openid-connect/token'%(keycloakUrl), headers=headers, data=data)\n",
    "    print(response.json())\n",
    "#     print(response.status_code)\n",
    "    token = response.json()[\"access_token\"]\n",
    "    return token\n",
    "\n",
    "token = getToken('sandbox-client-1', '6b57fdf0-c7ff-401b-8df1-fcafe650af06')\n",
    "print(token)"
   ]
  },
  {
   "cell_type": "markdown",
   "id": "52c10e0b-2c99-44dd-932e-b1ccc3dde242",
   "metadata": {
    "pycharm": {
     "name": "#%% md\n"
    }
   },
   "source": [
    "# create a schema"
   ]
  },
  {
   "cell_type": "code",
   "execution_count": 6,
   "id": "e35ee24c-0e23-4137-81d1-eb21eb2b1a97",
   "metadata": {
    "pycharm": {
     "name": "#%%\n"
    }
   },
   "outputs": [
    {
     "name": "stdout",
     "output_type": "stream",
     "text": [
      "500\n",
      "{\"id\":\"sunbird-rc.registry.create\",\"ver\":\"1.0\",\"ets\":1661328171769,\"params\":{\"resmsgid\":\"\",\"msgid\":\"e7fb662a-4831-4c3e-a77d-0ee924024194\",\"err\":\"\",\"status\":\"UNSUCCESSFUL\",\"errmsg\":\"java.lang.RuntimeException: org.postgresql.util.PSQLException: ERROR: duplicate key value violates unique constraint \\\"public_V_Schema_name_sqlgIdx\\\"\\n  Detail: Key (name)=(TrainingCertificate) already exists.\"},\"responseCode\":\"OK\",\"result\":{}}\n"
     ]
    },
    {
     "ename": "AssertionError",
     "evalue": "",
     "output_type": "error",
     "traceback": [
      "\u001b[0;31m---------------------------------------------------------------------------\u001b[0m",
      "\u001b[0;31mAssertionError\u001b[0m                            Traceback (most recent call last)",
      "\u001b[0;32m/var/folders/1c/_2dh0xbx1k9fzwx2pwfhgxrr0000gn/T/ipykernel_65434/1590763108.py\u001b[0m in \u001b[0;36m<module>\u001b[0;34m\u001b[0m\n\u001b[1;32m     12\u001b[0m \u001b[0mprint\u001b[0m\u001b[0;34m(\u001b[0m\u001b[0mresponse\u001b[0m\u001b[0;34m.\u001b[0m\u001b[0mstatus_code\u001b[0m\u001b[0;34m)\u001b[0m\u001b[0;34m\u001b[0m\u001b[0;34m\u001b[0m\u001b[0m\n\u001b[1;32m     13\u001b[0m \u001b[0mprint\u001b[0m\u001b[0;34m(\u001b[0m\u001b[0mresponse\u001b[0m\u001b[0;34m.\u001b[0m\u001b[0mtext\u001b[0m\u001b[0;34m)\u001b[0m\u001b[0;34m\u001b[0m\u001b[0;34m\u001b[0m\u001b[0m\n\u001b[0;32m---> 14\u001b[0;31m \u001b[0;32massert\u001b[0m \u001b[0mresponse\u001b[0m\u001b[0;34m.\u001b[0m\u001b[0mstatus_code\u001b[0m \u001b[0;34m==\u001b[0m \u001b[0;36m200\u001b[0m\u001b[0;34m\u001b[0m\u001b[0;34m\u001b[0m\u001b[0m\n\u001b[0m\u001b[1;32m     15\u001b[0m \u001b[0mschemaOsid\u001b[0m \u001b[0;34m=\u001b[0m \u001b[0mresponse\u001b[0m\u001b[0;34m.\u001b[0m\u001b[0mjson\u001b[0m\u001b[0;34m(\u001b[0m\u001b[0;34m)\u001b[0m\u001b[0;34m[\u001b[0m\u001b[0;34m\"result\"\u001b[0m\u001b[0;34m]\u001b[0m\u001b[0;34m[\u001b[0m\u001b[0;34m\"Schema\"\u001b[0m\u001b[0;34m]\u001b[0m\u001b[0;34m[\u001b[0m\u001b[0;34m\"osid\"\u001b[0m\u001b[0;34m]\u001b[0m\u001b[0;34m\u001b[0m\u001b[0;34m\u001b[0m\u001b[0m\n\u001b[1;32m     16\u001b[0m \u001b[0mprint\u001b[0m\u001b[0;34m(\u001b[0m\u001b[0mschemaOsid\u001b[0m\u001b[0;34m)\u001b[0m\u001b[0;34m\u001b[0m\u001b[0;34m\u001b[0m\u001b[0m\n",
      "\u001b[0;31mAssertionError\u001b[0m: "
     ]
    }
   ],
   "source": [
    "\n",
    "schemaRequestBody = {\n",
    "  \"name\": \"TrainingCertificate\",\n",
    "    \"schema\": \"{\\n  \\\"$schema\\\": \\\"http://json-schema.org/draft-07/schema\\\",\\n  \\\"type\\\": \\\"object\\\",\\n  \\\"properties\\\": {\\n    \\\"TrainingCertificate\\\": {\\n      \\\"$ref\\\": \\\"#/definitions/TrainingCertificate\\\"\\n    }\\n  },\\n  \\\"required\\\": [\\n    \\\"TrainingCertificate\\\"\\n  ],\\n  \\\"title\\\": \\\"TrainingCertificate\\\",\\n  \\\"definitions\\\": {\\n    \\\"TrainingCertificate\\\": {\\n      \\\"$id\\\": \\\"#/properties/TrainingCertificate\\\",\\n      \\\"type\\\": \\\"object\\\",\\n      \\\"title\\\": \\\"The TrainingCertificate Schema\\\",\\n      \\\"required\\\": [\\n        \\\"name\\\",\\n        \\\"contact\\\"\\n      ],\\n      \\\"properties\\\": {\\n        \\\"name\\\": {\\n          \\\"type\\\": \\\"string\\\"\\n        },\\n        \\\"trainingTitle\\\": {\\n          \\\"type\\\": \\\"string\\\"\\n        },\\n        \\\"contact\\\": {\\n          \\\"type\\\": \\\"string\\\"\\n        },\\n        \\\"date\\\": {\\n          \\\"type\\\": \\\"string\\\",\\n          \\\"format\\\": \\\"date\\\"\\n        },\\n        \\\"note\\\": {\\n          \\\"type\\\": \\\"string\\\"\\n        }\\n      }\\n    }\\n  },\\n  \\\"_osConfig\\\": {\\n    \\\"uniqueIndexFields\\\": [\\n      \\\"contact\\\"\\n    ],\\n    \\\"ownershipAttributes\\\": [],\\n    \\\"roles\\\": [],\\n    \\\"inviteRoles\\\": [\\n      \\\"anonymous\\\"\\n    ],\\n    \\\"enableLogin\\\": false,\\n    \\\"credentialTemplate\\\": {\\n      \\\"@context\\\": [\\n        \\\"https://www.w3.org/2018/credentials/v1\\\",\\n        \\\"https://gist.githubusercontent.com/dileepbapat/eb932596a70f75016411cc871113a789/raw/498e5af1d94784f114b32c1ab827f951a8a24def/skill\\\"\\n      ],\\n      \\\"type\\\": [\\n        \\\"VerifiableCredential\\\"\\n      ],\\n      \\\"issuanceDate\\\": \\\"2021-08-27T10:57:57.237Z\\\",\\n      \\\"credentialSubject\\\": {\\n        \\\"type\\\": \\\"Person\\\",\\n        \\\"name\\\": \\\"{{name}}\\\",\\n        \\\"trainedOn\\\": \\\"{{trainingTitle}}\\\"\\n      },\\n      \\\"issuer\\\": \\\"did:web:sunbirdrc.dev/vc/skill\\\"\\n    },\\n    \\\"certificateTemplates\\\": {\\n      \\\"html\\\": \\\"https://raw.githubusercontent.com/dileepbapat/ref-sunbirdrc-certificate/main/schemas/templates/TrainingCertificate.html\\\",\\n      \\\"svg\\\": \\\"https://raw.githubusercontent.com/dileepbapat/ref-sunbirdrc-certificate/main/schemas/templates/TrainingCertificate.svg\\\"\\n    }\\n  }\\n}\"\n",
    "}\n",
    "headers = {\n",
    "  'Content-Type': 'application/json',\n",
    "    'Authorization': 'Bearer ' + token\n",
    "}\n",
    "\n",
    "response = requests.request(\"POST\", registryUrl + \"Schema\", headers=headers, json=schemaRequestBody)\n",
    "\n",
    "print(response.status_code)\n",
    "print(response.text)\n",
    "assert response.status_code == 200 \n",
    "schemaOsid = response.json()[\"result\"][\"Schema\"][\"osid\"]\n",
    "print(schemaOsid)"
   ]
  },
  {
   "cell_type": "code",
   "execution_count": 7,
   "id": "2afc69be-7116-4616-960b-ce36d83757b3",
   "metadata": {
    "pycharm": {
     "name": "#%%\n"
    }
   },
   "outputs": [
    {
     "data": {
      "text/plain": [
       "<Response [500]>"
      ]
     },
     "execution_count": 7,
     "metadata": {},
     "output_type": "execute_result"
    }
   ],
   "source": [
    "response"
   ]
  },
  {
   "cell_type": "markdown",
   "id": "2675f607-b28d-460a-8764-dc2b77fb5c1f",
   "metadata": {
    "pycharm": {
     "name": "#%% md\n"
    }
   },
   "source": [
    "# get all schemas"
   ]
  },
  {
   "cell_type": "code",
   "execution_count": 8,
   "id": "3f9386dc-0f0b-4624-ae05-0c4d0ef8c418",
   "metadata": {
    "pycharm": {
     "name": "#%%\n"
    }
   },
   "outputs": [
    {
     "name": "stdout",
     "output_type": "stream",
     "text": [
      "[{'name': 'schema21', 'schema': '{\\n  \"$schema\": \"http://json-schema.org/draft-07/schema\",\\n  \"type\": \"object\",\\n  \"properties\": {\\n    \"TrainingCertificate\": {\\n      \"$ref\": \"#/definitions/TrainingCertificate\"\\n    }\\n  },\\n  \"required\": [\\n    \"TrainingCertificate\"\\n  ],\\n  \"title\": \"TrainingCertificate\",\\n  \"definitions\": {\\n    \"TrainingCertificate\": {\\n      \"$id\": \"#/properties/TrainingCertificate\",\\n      \"type\": \"object\",\\n      \"title\": \"The TrainingCertificate Schema\",\\n      \"required\": [\\n        \"name\",\\n        \"contact\"\\n      ],\\n      \"properties\": {\\n        \"name\": {\\n          \"type\": \"string\"\\n        },\\n        \"trainingTitle\": {\\n          \"type\": \"string\"\\n        },\\n        \"contact\": {\\n          \"type\": \"string\"\\n        },\\n        \"date\": {\\n          \"type\": \"string\",\\n          \"format\": \"date\"\\n        },\\n        \"note\": {\\n          \"type\": \"string\"\\n        }\\n      }\\n    }\\n  },\\n  \"_osConfig\": {\\n    \"uniqueIndexFields\": [\\n      \"contact\"\\n    ],\\n    \"ownershipAttributes\": [],\\n    \"roles\": [],\\n    \"inviteRoles\": [\\n      \"anonymous\"\\n    ],\\n    \"enableLogin\": false,\\n    \"credentialTemplate\": {\\n      \"@context\": [\\n        \"https://www.w3.org/2018/credentials/v1\",\\n        \"https://gist.githubusercontent.com/dileepbapat/eb932596a70f75016411cc871113a789/raw/498e5af1d94784f114b32c1ab827f951a8a24def/skill\"\\n      ],\\n      \"type\": [\\n        \"VerifiableCredential\"\\n      ],\\n      \"issuanceDate\": \"2021-08-27T10:57:57.237Z\",\\n      \"credentialSubject\": {\\n        \"type\": \"Person\",\\n        \"name\": \"{{name}}\",\\n        \"trainedOn\": \"{{trainingTitle}}\"\\n      },\\n      \"issuer\": \"did:web:sunbirdrc.dev/vc/skill\"\\n    },\\n    \"certificateTemplates\": {\\n      \"html\": \"https://raw.githubusercontent.com/dileepbapat/ref-sunbirdrc-certificate/main/schemas/templates/TrainingCertificate.html\",\\n      \"svg\": \"https://raw.githubusercontent.com/dileepbapat/ref-sunbirdrc-certificate/main/schemas/templates/TrainingCertificate.svg\"\\n    }\\n  }\\n}', 'osOwner': ['7d139d15-8390-42e7-bcf6-eeebe996abf0'], 'osCreatedAt': '2022-08-24T07:27:46.658Z', 'osUpdatedAt': '2022-08-24T07:27:46.658Z', 'osCreatedBy': '7d139d15-8390-42e7-bcf6-eeebe996abf0', 'osUpdatedBy': '7d139d15-8390-42e7-bcf6-eeebe996abf0', 'osid': '1-c0a8f4bf-cfdc-4a8f-b431-0a0727a55faa'}, {'name': 'TrainingCertificate', 'schema': '{\\n  \"$schema\": \"http://json-schema.org/draft-07/schema\",\\n  \"type\": \"object\",\\n  \"properties\": {\\n    \"TrainingCertificate\": {\\n      \"$ref\": \"#/definitions/TrainingCertificate\"\\n    }\\n  },\\n  \"required\": [\\n    \"TrainingCertificate\"\\n  ],\\n  \"title\": \"TrainingCertificate\",\\n  \"definitions\": {\\n    \"TrainingCertificate\": {\\n      \"$id\": \"#/properties/TrainingCertificate\",\\n      \"type\": \"object\",\\n      \"title\": \"The TrainingCertificate Schema\",\\n      \"required\": [\\n        \"name\",\\n        \"contact\"\\n      ],\\n      \"properties\": {\\n        \"name\": {\\n          \"type\": \"string\"\\n        },\\n        \"trainingTitle\": {\\n          \"type\": \"string\"\\n        },\\n        \"contact\": {\\n          \"type\": \"string\"\\n        },\\n        \"date\": {\\n          \"type\": \"string\",\\n          \"format\": \"date\"\\n        },\\n        \"note\": {\\n          \"type\": \"string\"\\n        }\\n      }\\n    }\\n  },\\n  \"_osConfig\": {\\n    \"uniqueIndexFields\": [\\n      \"contact\"\\n    ],\\n    \"ownershipAttributes\": [],\\n    \"roles\": [],\\n    \"inviteRoles\": [\\n      \"anonymous\"\\n    ],\\n    \"enableLogin\": false,\\n    \"credentialTemplate\": {\\n      \"@context\": [\\n        \"https://www.w3.org/2018/credentials/v1\",\\n        \"https://gist.githubusercontent.com/dileepbapat/eb932596a70f75016411cc871113a789/raw/498e5af1d94784f114b32c1ab827f951a8a24def/skill\"\\n      ],\\n      \"type\": [\\n        \"VerifiableCredential\"\\n      ],\\n      \"issuanceDate\": \"2021-08-27T10:57:57.237Z\",\\n      \"credentialSubject\": {\\n        \"type\": \"Person\",\\n        \"name\": \"{{name}}\",\\n        \"trainedOn\": \"{{trainingTitle}}\"\\n      },\\n      \"issuer\": \"did:web:sunbirdrc.dev/vc/skill\"\\n    },\\n    \"certificateTemplates\": {\\n      \"html\": \"https://raw.githubusercontent.com/dileepbapat/ref-sunbirdrc-certificate/main/schemas/templates/TrainingCertificate.html\",\\n      \"svg\": \"https://raw.githubusercontent.com/dileepbapat/ref-sunbirdrc-certificate/main/schemas/templates/TrainingCertificate.svg\"\\n    }\\n  }\\n}', 'osOwner': ['7d139d15-8390-42e7-bcf6-eeebe996abf0'], 'osCreatedAt': '2022-08-24T07:53:04.451Z', 'osUpdatedAt': '2022-08-24T07:53:04.451Z', 'osCreatedBy': '7d139d15-8390-42e7-bcf6-eeebe996abf0', 'osUpdatedBy': '7d139d15-8390-42e7-bcf6-eeebe996abf0', 'osid': '1-786996e3-d0a8-441e-bf32-cacc2c55fe07'}]\n",
      "schema21\n",
      "TrainingCertificate\n"
     ]
    }
   ],
   "source": [
    "schemaRequestBody = {\n",
    "  \"entity\": \"Schema\",\n",
    "    \"filters\": {}\n",
    "}\n",
    "headers = {\n",
    "  'Content-Type': 'application/json',\n",
    "    'Authorization': 'Bearer ' + token\n",
    "}\n",
    "\n",
    "response = requests.request(\"POST\", registryUrl + \"Schema/search\", headers=headers, json=schemaRequestBody)\n",
    "\n",
    "print(response.json())\n",
    "for j in response.json():\n",
    "    print(j['name'])"
   ]
  },
  {
   "cell_type": "code",
   "execution_count": 10,
   "id": "ea111905-0af2-411a-b154-dbccf5f2c89e",
   "metadata": {
    "pycharm": {
     "name": "#%%\n"
    }
   },
   "outputs": [
    {
     "name": "stdout",
     "output_type": "stream",
     "text": [
      "<Response [200]>\n",
      "[{'schema': '{\\n  \"$schema\": \"http://json-schema.org/draft-07/schema\",\\n  \"type\": \"object\",\\n  \"properties\": {\\n    \"TrainingCertificate\": {\\n      \"$ref\": \"#/definitions/TrainingCertificate\"\\n    }\\n  },\\n  \"required\": [\\n    \"TrainingCertificate\"\\n  ],\\n  \"title\": \"TrainingCertificate\",\\n  \"definitions\": {\\n    \"TrainingCertificate\": {\\n      \"$id\": \"#/properties/TrainingCertificate\",\\n      \"type\": \"object\",\\n      \"title\": \"The TrainingCertificate Schema\",\\n      \"required\": [\\n        \"name\",\\n        \"contact\"\\n      ],\\n      \"properties\": {\\n        \"name\": {\\n          \"type\": \"string\"\\n        },\\n        \"trainingTitle\": {\\n          \"type\": \"string\"\\n        },\\n        \"contact\": {\\n          \"type\": \"string\"\\n        },\\n        \"date\": {\\n          \"type\": \"string\",\\n          \"format\": \"date\"\\n        },\\n        \"note\": {\\n          \"type\": \"string\"\\n        }\\n      }\\n    }\\n  },\\n  \"_osConfig\": {\\n    \"uniqueIndexFields\": [\\n      \"contact\"\\n    ],\\n    \"ownershipAttributes\": [],\\n    \"roles\": [],\\n    \"inviteRoles\": [\\n      \"anonymous\"\\n    ],\\n    \"enableLogin\": false,\\n    \"credentialTemplate\": {\\n      \"@context\": [\\n        \"https://www.w3.org/2018/credentials/v1\",\\n        \"https://gist.githubusercontent.com/dileepbapat/eb932596a70f75016411cc871113a789/raw/498e5af1d94784f114b32c1ab827f951a8a24def/skill\"\\n      ],\\n      \"type\": [\\n        \"VerifiableCredential\"\\n      ],\\n      \"issuanceDate\": \"2021-08-27T10:57:57.237Z\",\\n      \"credentialSubject\": {\\n        \"type\": \"Person\",\\n        \"name\": \"{{name}}\",\\n        \"trainedOn\": \"{{trainingTitle}}\"\\n      },\\n      \"issuer\": \"did:web:sunbirdrc.dev/vc/skill\"\\n    },\\n    \"certificateTemplates\": {\\n      \"html\": \"https://raw.githubusercontent.com/dileepbapat/ref-sunbirdrc-certificate/main/schemas/templates/TrainingCertificate.html\",\\n      \"svg\": \"https://raw.githubusercontent.com/dileepbapat/ref-sunbirdrc-certificate/main/schemas/templates/TrainingCertificate.svg\"\\n    }\\n  }\\n}', 'osUpdatedAt': '2022-08-24T07:27:46.658Z', 'osCreatedAt': '2022-08-24T07:27:46.658Z', 'osUpdatedBy': '7d139d15-8390-42e7-bcf6-eeebe996abf0', 'name': 'schema21', 'osCreatedBy': '7d139d15-8390-42e7-bcf6-eeebe996abf0', 'osid': '1-c0a8f4bf-cfdc-4a8f-b431-0a0727a55faa', 'osOwner': ['7d139d15-8390-42e7-bcf6-eeebe996abf0']}, {'schema': '{\\n  \"$schema\": \"http://json-schema.org/draft-07/schema\",\\n  \"type\": \"object\",\\n  \"properties\": {\\n    \"TrainingCertificate\": {\\n      \"$ref\": \"#/definitions/TrainingCertificate\"\\n    }\\n  },\\n  \"required\": [\\n    \"TrainingCertificate\"\\n  ],\\n  \"title\": \"TrainingCertificate\",\\n  \"definitions\": {\\n    \"TrainingCertificate\": {\\n      \"$id\": \"#/properties/TrainingCertificate\",\\n      \"type\": \"object\",\\n      \"title\": \"The TrainingCertificate Schema\",\\n      \"required\": [\\n        \"name\",\\n        \"contact\"\\n      ],\\n      \"properties\": {\\n        \"name\": {\\n          \"type\": \"string\"\\n        },\\n        \"trainingTitle\": {\\n          \"type\": \"string\"\\n        },\\n        \"contact\": {\\n          \"type\": \"string\"\\n        },\\n        \"date\": {\\n          \"type\": \"string\",\\n          \"format\": \"date\"\\n        },\\n        \"note\": {\\n          \"type\": \"string\"\\n        }\\n      }\\n    }\\n  },\\n  \"_osConfig\": {\\n    \"uniqueIndexFields\": [\\n      \"contact\"\\n    ],\\n    \"ownershipAttributes\": [],\\n    \"roles\": [],\\n    \"inviteRoles\": [\\n      \"anonymous\"\\n    ],\\n    \"enableLogin\": false,\\n    \"credentialTemplate\": {\\n      \"@context\": [\\n        \"https://www.w3.org/2018/credentials/v1\",\\n        \"https://gist.githubusercontent.com/dileepbapat/eb932596a70f75016411cc871113a789/raw/498e5af1d94784f114b32c1ab827f951a8a24def/skill\"\\n      ],\\n      \"type\": [\\n        \"VerifiableCredential\"\\n      ],\\n      \"issuanceDate\": \"2021-08-27T10:57:57.237Z\",\\n      \"credentialSubject\": {\\n        \"type\": \"Person\",\\n        \"name\": \"{{name}}\",\\n        \"trainedOn\": \"{{trainingTitle}}\"\\n      },\\n      \"issuer\": \"did:web:sunbirdrc.dev/vc/skill\"\\n    },\\n    \"certificateTemplates\": {\\n      \"html\": \"https://raw.githubusercontent.com/dileepbapat/ref-sunbirdrc-certificate/main/schemas/templates/TrainingCertificate.html\",\\n      \"svg\": \"https://raw.githubusercontent.com/dileepbapat/ref-sunbirdrc-certificate/main/schemas/templates/TrainingCertificate.svg\"\\n    }\\n  }\\n}', 'osUpdatedAt': '2022-08-24T07:53:04.451Z', 'osCreatedAt': '2022-08-24T07:53:04.451Z', 'osUpdatedBy': '7d139d15-8390-42e7-bcf6-eeebe996abf0', 'name': 'TrainingCertificate', 'osCreatedBy': '7d139d15-8390-42e7-bcf6-eeebe996abf0', 'osid': '1-786996e3-d0a8-441e-bf32-cacc2c55fe07', 'osOwner': ['7d139d15-8390-42e7-bcf6-eeebe996abf0']}]\n",
      "2\n"
     ]
    }
   ],
   "source": [
    "schemaRequestBody = {\n",
    "  \"entity\": \"Schema\",\n",
    "    \"filters\": {}\n",
    "}\n",
    "headers = {\n",
    "  'Content-Type': 'application/json',\n",
    "    'Authorization': 'Bearer ' + token\n",
    "}\n",
    "\n",
    "response = requests.request(\"GET\", registryUrl + \"Schema\", headers=headers)\n",
    "print(response)\n",
    "print(response.json())\n",
    "print(len(response.json()))"
   ]
  },
  {
   "cell_type": "code",
   "execution_count": 12,
   "id": "f69d1417-2bf1-4748-8694-ad479342de0f",
   "metadata": {},
   "outputs": [
    {
     "name": "stdout",
     "output_type": "stream",
     "text": [
      "<Response [404]>\n",
      "{'id': 'sunbird-rc.registry.search', 'ver': '1.0', 'ets': 1661328189245, 'params': {'resmsgid': '', 'msgid': '85bf4e00-5b09-4a3d-948d-485d476d6cec', 'err': '', 'status': 'UNSUCCESSFUL', 'errmsg': 'Entity not found'}, 'responseCode': 'OK'}\n",
      "5\n"
     ]
    }
   ],
   "source": [
    "schemaRequestBody = {\n",
    "  \"entity\": \"Schema\",\n",
    "    \"filters\": {}\n",
    "}\n",
    "headers = {\n",
    "  'Content-Type': 'application/json',\n",
    "    'Authorization': 'Bearer ' + token\n",
    "}\n",
    "\n",
    "response = requests.request(\"GET\", registryUrl + \"Schema\", headers=headers)\n",
    "print(response)\n",
    "print(response.json())\n",
    "print(len(response.json()))"
   ]
  },
  {
   "cell_type": "markdown",
   "id": "c54787df-fab0-4018-a279-e0813ce32ed9",
   "metadata": {},
   "source": [
    "# Tests for newly added schem is here:"
   ]
  },
  {
   "cell_type": "code",
   "execution_count": 14,
   "id": "0ee357b7-7e8f-4e82-b3f8-e61797ad2ef3",
   "metadata": {
    "pycharm": {
     "name": "#%% md\n"
    }
   },
   "outputs": [
    {
     "name": "stdout",
     "output_type": "stream",
     "text": [
      "['/api/docs/TrainingCertificate.json', '/api/docs/Schema.json']\n"
     ]
    }
   ],
   "source": [
    "\n",
    "resp = requests.get(\"%sapi/docs/swagger.json\"%registryBaseUrl)\n",
    "assert resp.status_code == 200\n",
    "assert resp.json()[\"swagger\"] == \"2.0\"\n",
    "assert resp.json()[\"paths\"] != None\n",
    "\n",
    "swaggerJson = resp.json()\n",
    "swaggerJson[\"paths\"].keys()\n",
    "\n",
    "jsonUrls = [f for f in swaggerJson[\"paths\"].keys() if \".json\" in f]\n",
    "print(jsonUrls)\n",
    "jsonUrl = jsonUrls[0]\n",
    "\n",
    "resp = requests.get(\"%s%s\"%(registryBaseUrl, jsonUrl))\n",
    "assert resp.status_code == 200\n"
   ]
  },
  {
   "cell_type": "code",
   "execution_count": 15,
   "id": "71b378ad",
   "metadata": {
    "pycharm": {
     "name": "#%%\n"
    }
   },
   "outputs": [
    {
     "name": "stdout",
     "output_type": "stream",
     "text": [
      "Available entities  ['TrainingCertificate']\n",
      "Using entity TrainingCertificate\n"
     ]
    }
   ],
   "source": [
    "resp.json()\n",
    "entities = list(resp.json().keys())\n",
    "print(\"Available entities \", entities)\n",
    "entity_name=entities[0]\n",
    "print(\"Using entity %s\"%entity_name)\n"
   ]
  },
  {
   "cell_type": "markdown",
   "id": "15bc7db7-65f0-43fe-bd08-e5b5b62f18e9",
   "metadata": {},
   "source": [
    "# Create entity"
   ]
  },
  {
   "cell_type": "code",
   "execution_count": 16,
   "id": "4d756b26-9791-4493-9ddb-cef6994dadf9",
   "metadata": {},
   "outputs": [],
   "source": [
    "userId =str(random.randint(1e10,1e11))\n",
    "headers = {\n",
    "  'Content-Type': 'application/json',\n",
    "    'Authorization': 'Bearer ' + token\n",
    "}\n",
    "resp = requests.post(\"%s%s\"%(registryBaseUrl, '/api/v1/%s'%entity_name), json={\n",
    "    \"name\":\"Sunbird Learner\", \n",
    "    \"contact\": userId, \n",
    "    \"trainingTitle\":\"Sunbird RC Certificate Module\"\n",
    "    \n",
    "}, headers=headers)\n",
    "assert resp.status_code == 200 or print (resp.json())\n",
    "idx = resp.json()[\"result\"][entity_name][\"osid\"]\n"
   ]
  },
  {
   "cell_type": "code",
   "execution_count": 17,
   "id": "5cbb03ea-76e5-46eb-8ae9-0b6245b065c1",
   "metadata": {},
   "outputs": [
    {
     "name": "stdout",
     "output_type": "stream",
     "text": [
      "{'id': 'sunbird-rc.registry.create', 'ver': '1.0', 'ets': 1661328303733, 'params': {'resmsgid': '', 'msgid': '0d323f9f-86ac-4264-9021-458a62c81971', 'err': '', 'status': 'SUCCESSFUL', 'errmsg': ''}, 'responseCode': 'OK', 'result': {'TrainingCertificate': {'osid': '1-a5723e92-b564-45b7-b021-c0cc560c51f0'}}}\n"
     ]
    },
    {
     "data": {
      "text/plain": [
       "(200, '48108419738')"
      ]
     },
     "execution_count": 17,
     "metadata": {},
     "output_type": "execute_result"
    }
   ],
   "source": [
    "print(resp.json())\n",
    "resp.status_code, userId\n"
   ]
  },
  {
   "cell_type": "markdown",
   "id": "12c90402-5f3b-40e1-a73c-d3706987f43f",
   "metadata": {},
   "source": [
    "# get entity"
   ]
  },
  {
   "cell_type": "code",
   "execution_count": 21,
   "id": "a138c2f3-4632-43f8-8832-57905bbf17f4",
   "metadata": {},
   "outputs": [
    {
     "name": "stdout",
     "output_type": "stream",
     "text": [
      "{\"@context\": [\"https://www.w3.org/2018/credentials/v1\", \"https://gist.githubusercontent.com/dileepbapat/eb932596a70f75016411cc871113a789/raw/498e5af1d94784f114b32c1ab827f951a8a24def/skill\"], \"type\": [\"VerifiableCredential\"], \"issuanceDate\": \"2021-08-27T10:57:57.237Z\", \"credentialSubject\": {\"type\": \"Person\", \"name\": \"Sunbird Learner\", \"trainedOn\": \"Sunbird RC Certificate Module\"}, \"issuer\": \"did:web:sunbirdrc.dev/vc/skill\", \"proof\": {\"type\": \"Ed25519Signature2018\", \"created\": \"2022-08-24T08:05:03Z\", \"verificationMethod\": \"did:india\", \"proofPurpose\": \"assertionMethod\", \"jws\": \"eyJhbGciOiJFZERTQSIsImI2NCI6ZmFsc2UsImNyaXQiOlsiYjY0Il19..Y_AM-YP0djpCSSZS_lxKnSs-tGKAMZLS2NtEksN6TCSOCgNJgUFzlxZ7bTMh5a7oMhB30goU2MZNru39ak3xAQ\"}}\n"
     ]
    }
   ],
   "source": [
    "headers = {\n",
    "  'Content-Type': 'application/json',\n",
    "    'Authorization': 'Bearer ' + token,\n",
    "    \"Accept\":\"application/vc+ld+json\"\n",
    "}\n",
    "resp = requests.get(\"%sapi/v1/%s/%s\"%(registryBaseUrl, entity_name, idx), headers=headers)\n",
    "print(json.dumps(resp.json()))\n",
    "assert resp.json()[\"proof\"][\"type\"] == \"Ed25519Signature2018\"\n"
   ]
  },
  {
   "cell_type": "markdown",
   "id": "daa678a8-1176-43f3-9fc5-4f5d79a6bc65",
   "metadata": {},
   "source": [
    "# get certificate pdf"
   ]
  },
  {
   "cell_type": "code",
   "execution_count": 24,
   "id": "0cd291cb-6ab8-4f20-b608-d857fc1bb060",
   "metadata": {},
   "outputs": [
    {
     "data": {
      "text/plain": [
       "[]"
      ]
     },
     "execution_count": 24,
     "metadata": {},
     "output_type": "execute_result"
    }
   ],
   "source": [
    "headers = {\n",
    "  'Content-Type': 'application/json',\n",
    "    'Authorization': 'Bearer ' + token,\n",
    "\"Accept\":\"application/pdf\", \n",
    "    \"template\": \"https://raw.githubusercontent.com/dileepbapat/ref-sunbirdrc-certificate/main/schemas/templates/TrainingCertificate.html\"\n",
    "}\n",
    "resp = requests.get(\"%s/api/v1/%s/%s\"%(registryBaseUrl, entity_name, idx), headers=headers)\n",
    "(resp.status_code, resp.content)\n",
    "\n",
    "assert resp.content[:5].decode().startswith(\"%PDF\")\n",
    "with open('sample.pdf', 'wb') as f:\n",
    "    f.write(resp.content)\n",
    "\n",
    "%system open 'sample.pdf'"
   ]
  },
  {
   "cell_type": "code",
   "execution_count": null,
   "id": "46acfcb7-c158-4f1b-9608-49f557ff6ad9",
   "metadata": {},
   "outputs": [],
   "source": []
  }
 ],
 "metadata": {
  "kernelspec": {
   "display_name": "Python 3 (ipykernel)",
   "language": "python",
   "name": "python3"
  },
  "language_info": {
   "codemirror_mode": {
    "name": "ipython",
    "version": 3
   },
   "file_extension": ".py",
   "mimetype": "text/x-python",
   "name": "python",
   "nbconvert_exporter": "python",
   "pygments_lexer": "ipython3",
   "version": "3.9.13"
  }
 },
 "nbformat": 4,
 "nbformat_minor": 5
}
