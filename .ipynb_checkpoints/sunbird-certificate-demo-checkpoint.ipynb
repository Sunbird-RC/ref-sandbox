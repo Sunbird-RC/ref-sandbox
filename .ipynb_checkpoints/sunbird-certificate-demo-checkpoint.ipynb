{
 "cells": [
  {
   "cell_type": "code",
   "execution_count": 1,
   "id": "c9e62b35-8012-4614-9d3d-e9212e7b698f",
   "metadata": {
    "pycharm": {
     "is_executing": false,
     "name": "#%%\n"
    }
   },
   "outputs": [],
   "source": [
    "import requests\n",
    "import random\n",
    "import json\n",
    "import random\n",
    "  "
   ]
  },
  {
   "cell_type": "code",
   "execution_count": null,
   "id": "626b7b38-1773-4d3d-b1df-2e53f9372700",
   "metadata": {
    "pycharm": {
     "name": "#%%\n"
    }
   },
   "outputs": [],
   "source": []
  },
  {
   "cell_type": "code",
   "execution_count": 2,
   "id": "bc7348d4-396b-4319-b6f8-47c210dc0768",
   "metadata": {
    "pycharm": {
     "is_executing": false,
     "name": "#%%\n"
    }
   },
   "outputs": [],
   "source": [
    "registryBaseUrl = \"http://43.204.180.163/registry/\"\n",
    "registryUrl = \"http://43.204.180.163/registry/api/v1/\"\n",
    "keycloakUrl = \"http://43.204.180.163/\"\n",
    "client_id='sandbox-client-1'\n",
    "client_secret='7c8a8b3f-9626-446a-9888-2d8adfdd1def'"
   ]
  },
  {
   "cell_type": "code",
   "execution_count": 3,
   "id": "fdc92d91-f63e-4a0c-94c0-1d4d9b304fb3",
   "metadata": {
    "pycharm": {
     "name": "#%%\n"
    }
   },
   "outputs": [
    {
     "name": "stdout",
     "output_type": "stream",
     "text": [
      "{\"id\":\"sunbird-rc.registry.health\",\"ver\":\"1.0\",\"ets\":1662721586851,\"params\":{\"resmsgid\":\"\",\"msgid\":\"a76870ed-b9ea-41aa-868d-eb29bf9c1326\",\"err\":\"\",\"status\":\"SUCCESSFUL\",\"errmsg\":\"\"},\"responseCode\":\"OK\",\"result\":{\"name\":\"sunbirdrc-registry-api\",\"healthy\":false,\"checks\":[{\"name\":\"sunbirdrc.database\",\"healthy\":true,\"err\":\"\",\"errmsg\":\"\"},{\"name\":\"sunbird.signature.service\",\"healthy\":false,\"err\":\"\",\"errmsg\":\"\"}]}}\n"
     ]
    }
   ],
   "source": [
    "response = requests.get('%s/health'%(registryBaseUrl))\n",
    "print(response.text)\n",
    "assert response.status_code == 200 "
   ]
  },
  {
   "cell_type": "markdown",
   "id": "28ce5762-04ab-4fb2-b4ee-180a57e2d769",
   "metadata": {
    "pycharm": {
     "name": "#%% md\n"
    }
   },
   "source": [
    "# get client token\n"
   ]
  },
  {
   "cell_type": "code",
   "execution_count": 7,
   "id": "959b097e-bc94-449c-87e9-fbb12cd3694f",
   "metadata": {
    "pycharm": {
     "name": "#%%\n"
    }
   },
   "outputs": [
    {
     "name": "stdout",
     "output_type": "stream",
     "text": [
      "{'access_token': 'eyJhbGciOiJSUzI1NiIsInR5cCIgOiAiSldUIiwia2lkIiA6ICJyQVBqamxGa3pzS1ZvVG5hRHg3d1ZaMnB6YnlNbDBoT2RVYTFUbUkxdkl3In0.eyJleHAiOjE2NjI3MjIzNzksImlhdCI6MTY2MjcyMTc3OSwianRpIjoiMDg5M2VhOTYtZTFmOS00YjM0LTgyMDktNDM3NDNmNDVmY2NjIiwiaXNzIjoiaHR0cDovLzQzLjIwNC4xODAuMTYzL2F1dGgvcmVhbG1zL3N1bmJpcmQtcmMiLCJhdWQiOiJhY2NvdW50Iiwic3ViIjoiNWJkNzg2ODktZDdmYS00ZTM0LWIzMGUtMGU1NWY1ZTA3MWFkIiwidHlwIjoiQmVhcmVyIiwiYXpwIjoic2FuZGJveC1jbGllbnQtMSIsImFjciI6IjEiLCJyZWFsbV9hY2Nlc3MiOnsicm9sZXMiOlsib2ZmbGluZV9hY2Nlc3MiLCJhZG1pbiIsInVtYV9hdXRob3JpemF0aW9uIiwiZGVmYXVsdC1yb2xlcy1uZGVhciJdfSwicmVzb3VyY2VfYWNjZXNzIjp7ImFjY291bnQiOnsicm9sZXMiOlsibWFuYWdlLWFjY291bnQiLCJtYW5hZ2UtYWNjb3VudC1saW5rcyIsInZpZXctcHJvZmlsZSJdfX0sInNjb3BlIjoicHJvZmlsZSBlbWFpbCIsImNsaWVudEhvc3QiOiIzLjcuODcuMTI1IiwiZW1haWxfdmVyaWZpZWQiOmZhbHNlLCJjbGllbnRJZCI6InNhbmRib3gtY2xpZW50LTEiLCJwcmVmZXJyZWRfdXNlcm5hbWUiOiJzZXJ2aWNlLWFjY291bnQtc2FuZGJveC1jbGllbnQtMSIsImNsaWVudEFkZHJlc3MiOiIzLjcuODcuMTI1In0.JFa3xtlq3ON7a1TGQjnLpOET3Hmt5JaCu_jCmE3e8TCemn64pggSo7-3Oi8wfpviDSGj7BJRO4MkwQJnLtmI5ESBn4OWVRZpDgIL1zwCxaWpomfO-U1f7T-nC3rk0TmLXUTvt0I7foCFXDz3yJvaaq5ZTMzo1vg2fQzM7ktro922GRS0Thkp1Ze2LQeB8kTTHIi9EP4uB1_AAlztr75WGx7a7AH2RP_d7unTv5wdqW8KN-2UXhzcASxG4hACaZzIPTM76x_6OSEy7dnln0PI21sONXDioF5Hu30V1LaxZo-hPvC0oBLc9dAG6UrhAjt3rvV1qOpDK4QOtIgBfkW3YA', 'expires_in': 600, 'refresh_expires_in': 0, 'token_type': 'Bearer', 'not-before-policy': 1607576887, 'scope': 'profile email'}\n",
      "eyJhbGciOiJSUzI1NiIsInR5cCIgOiAiSldUIiwia2lkIiA6ICJyQVBqamxGa3pzS1ZvVG5hRHg3d1ZaMnB6YnlNbDBoT2RVYTFUbUkxdkl3In0.eyJleHAiOjE2NjI3MjIzNzksImlhdCI6MTY2MjcyMTc3OSwianRpIjoiMDg5M2VhOTYtZTFmOS00YjM0LTgyMDktNDM3NDNmNDVmY2NjIiwiaXNzIjoiaHR0cDovLzQzLjIwNC4xODAuMTYzL2F1dGgvcmVhbG1zL3N1bmJpcmQtcmMiLCJhdWQiOiJhY2NvdW50Iiwic3ViIjoiNWJkNzg2ODktZDdmYS00ZTM0LWIzMGUtMGU1NWY1ZTA3MWFkIiwidHlwIjoiQmVhcmVyIiwiYXpwIjoic2FuZGJveC1jbGllbnQtMSIsImFjciI6IjEiLCJyZWFsbV9hY2Nlc3MiOnsicm9sZXMiOlsib2ZmbGluZV9hY2Nlc3MiLCJhZG1pbiIsInVtYV9hdXRob3JpemF0aW9uIiwiZGVmYXVsdC1yb2xlcy1uZGVhciJdfSwicmVzb3VyY2VfYWNjZXNzIjp7ImFjY291bnQiOnsicm9sZXMiOlsibWFuYWdlLWFjY291bnQiLCJtYW5hZ2UtYWNjb3VudC1saW5rcyIsInZpZXctcHJvZmlsZSJdfX0sInNjb3BlIjoicHJvZmlsZSBlbWFpbCIsImNsaWVudEhvc3QiOiIzLjcuODcuMTI1IiwiZW1haWxfdmVyaWZpZWQiOmZhbHNlLCJjbGllbnRJZCI6InNhbmRib3gtY2xpZW50LTEiLCJwcmVmZXJyZWRfdXNlcm5hbWUiOiJzZXJ2aWNlLWFjY291bnQtc2FuZGJveC1jbGllbnQtMSIsImNsaWVudEFkZHJlc3MiOiIzLjcuODcuMTI1In0.JFa3xtlq3ON7a1TGQjnLpOET3Hmt5JaCu_jCmE3e8TCemn64pggSo7-3Oi8wfpviDSGj7BJRO4MkwQJnLtmI5ESBn4OWVRZpDgIL1zwCxaWpomfO-U1f7T-nC3rk0TmLXUTvt0I7foCFXDz3yJvaaq5ZTMzo1vg2fQzM7ktro922GRS0Thkp1Ze2LQeB8kTTHIi9EP4uB1_AAlztr75WGx7a7AH2RP_d7unTv5wdqW8KN-2UXhzcASxG4hACaZzIPTM76x_6OSEy7dnln0PI21sONXDioF5Hu30V1LaxZo-hPvC0oBLc9dAG6UrhAjt3rvV1qOpDK4QOtIgBfkW3YA\n"
     ]
    }
   ],
   "source": [
    "def getToken(clientId, clientSecret):\n",
    "    headers = {\n",
    "        'content-type': 'application/x-www-form-urlencoded',\n",
    "    }\n",
    "\n",
    "    data = {\n",
    "      'client_id': clientId,\n",
    "      'client_secret': clientSecret,\n",
    "      'grant_type': 'client_credentials'\n",
    "    }\n",
    "\n",
    "    response = requests.post('%sauth/realms/sunbird-rc/protocol/openid-connect/token'%(keycloakUrl), headers=headers, data=data)\n",
    "    print(response.json())\n",
    "#     print(response.status_code)\n",
    "    token = response.json()[\"access_token\"]\n",
    "    return token\n",
    "\n",
    "token = getToken(client_id, client_secret)\n",
    "print(token)"
   ]
  },
  {
   "cell_type": "markdown",
   "id": "52c10e0b-2c99-44dd-932e-b1ccc3dde242",
   "metadata": {
    "pycharm": {
     "name": "#%% md\n"
    }
   },
   "source": [
    "# create a schema"
   ]
  },
  {
   "cell_type": "code",
   "execution_count": 10,
   "id": "e35ee24c-0e23-4137-81d1-eb21eb2b1a97",
   "metadata": {
    "pycharm": {
     "name": "#%%\n"
    }
   },
   "outputs": [
    {
     "name": "stdout",
     "output_type": "stream",
     "text": [
      "200\n",
      "{\"id\":\"sunbird-rc.registry.create\",\"ver\":\"1.0\",\"ets\":1662721915931,\"params\":{\"resmsgid\":\"\",\"msgid\":\"50654b5a-f75d-47d6-b6c1-cb0d42dd1184\",\"err\":\"\",\"status\":\"SUCCESSFUL\",\"errmsg\":\"\"},\"responseCode\":\"OK\",\"result\":{\"Schema\":{\"osid\":\"1-380a33e7-ec32-40f2-9b0f-5f15b0a958ff\"}}}\n",
      "1-380a33e7-ec32-40f2-9b0f-5f15b0a958ff\n"
     ]
    }
   ],
   "source": [
    "\n",
    "schemaRequestBody = {\n",
    "  \"name\": \"TrainingCertificateV\"+str(random.randrange(0, 100,1)),\n",
    "    \"schema\": \"{\\n  \\\"$schema\\\": \\\"http://json-schema.org/draft-07/schema\\\",\\n  \\\"type\\\": \\\"object\\\",\\n  \\\"properties\\\": {\\n    \\\"TrainingCertificate\\\": {\\n      \\\"$ref\\\": \\\"#/definitions/TrainingCertificate\\\"\\n    }\\n  },\\n  \\\"required\\\": [\\n    \\\"TrainingCertificate\\\"\\n  ],\\n  \\\"title\\\": \\\"TrainingCertificate\\\",\\n  \\\"definitions\\\": {\\n    \\\"TrainingCertificate\\\": {\\n      \\\"$id\\\": \\\"#/properties/TrainingCertificate\\\",\\n      \\\"type\\\": \\\"object\\\",\\n      \\\"title\\\": \\\"The TrainingCertificate Schema\\\",\\n      \\\"required\\\": [\\n        \\\"name\\\",\\n        \\\"contact\\\"\\n      ],\\n      \\\"properties\\\": {\\n        \\\"name\\\": {\\n          \\\"type\\\": \\\"string\\\"\\n        },\\n        \\\"trainingTitle\\\": {\\n          \\\"type\\\": \\\"string\\\"\\n        },\\n        \\\"contact\\\": {\\n          \\\"type\\\": \\\"string\\\"\\n        },\\n        \\\"date\\\": {\\n          \\\"type\\\": \\\"string\\\",\\n          \\\"format\\\": \\\"date\\\"\\n        },\\n        \\\"note\\\": {\\n          \\\"type\\\": \\\"string\\\"\\n        }\\n      }\\n    }\\n  },\\n  \\\"_osConfig\\\": {\\n    \\\"uniqueIndexFields\\\": [\\n      \\\"contact\\\"\\n    ],\\n    \\\"ownershipAttributes\\\": [],\\n    \\\"roles\\\": [],\\n    \\\"inviteRoles\\\": [\\n      \\\"anonymous\\\"\\n    ],\\n    \\\"enableLogin\\\": false,\\n    \\\"credentialTemplate\\\": {\\n      \\\"@context\\\": [\\n        \\\"https://www.w3.org/2018/credentials/v1\\\",\\n        \\\"https://gist.githubusercontent.com/dileepbapat/eb932596a70f75016411cc871113a789/raw/498e5af1d94784f114b32c1ab827f951a8a24def/skill\\\"\\n      ],\\n      \\\"type\\\": [\\n        \\\"VerifiableCredential\\\"\\n      ],\\n      \\\"issuanceDate\\\": \\\"2021-08-27T10:57:57.237Z\\\",\\n      \\\"credentialSubject\\\": {\\n        \\\"type\\\": \\\"Person\\\",\\n        \\\"name\\\": \\\"{{name}}\\\",\\n        \\\"trainedOn\\\": \\\"{{trainingTitle}}\\\"\\n      },\\n      \\\"issuer\\\": \\\"did:web:sunbirdrc.dev/vc/skill\\\"\\n    },\\n    \\\"certificateTemplates\\\": {\\n      \\\"html\\\": \\\"https://raw.githubusercontent.com/dileepbapat/ref-sunbirdrc-certificate/main/schemas/templates/TrainingCertificate.html\\\",\\n      \\\"svg\\\": \\\"https://raw.githubusercontent.com/dileepbapat/ref-sunbirdrc-certificate/main/schemas/templates/TrainingCertificate.svg\\\"\\n    }\\n  }\\n}\"\n",
    "}\n",
    "headers = {\n",
    "  'Content-Type': 'application/json',\n",
    "    'Authorization': 'Bearer ' + token\n",
    "}\n",
    "\n",
    "response = requests.request(\"POST\", registryUrl + \"Schema\", headers=headers, json=schemaRequestBody)\n",
    "\n",
    "print(response.status_code)\n",
    "print(response.text)\n",
    "assert response.status_code == 200 \n",
    "schemaOsid = response.json()[\"result\"][\"Schema\"][\"osid\"]\n",
    "print(schemaOsid)"
   ]
  },
  {
   "cell_type": "code",
   "execution_count": 11,
   "id": "2afc69be-7116-4616-960b-ce36d83757b3",
   "metadata": {
    "pycharm": {
     "name": "#%%\n"
    }
   },
   "outputs": [
    {
     "data": {
      "text/plain": [
       "<Response [200]>"
      ]
     },
     "execution_count": 11,
     "metadata": {},
     "output_type": "execute_result"
    }
   ],
   "source": [
    "response"
   ]
  },
  {
   "cell_type": "markdown",
   "id": "2675f607-b28d-460a-8764-dc2b77fb5c1f",
   "metadata": {
    "pycharm": {
     "name": "#%% md\n"
    }
   },
   "source": [
    "# get all schemas"
   ]
  },
  {
   "cell_type": "code",
   "execution_count": 12,
   "id": "3f9386dc-0f0b-4624-ae05-0c4d0ef8c418",
   "metadata": {
    "pycharm": {
     "name": "#%%\n"
    }
   },
   "outputs": [
    {
     "name": "stdout",
     "output_type": "stream",
     "text": [
      "[{'name': 'TrainingCertificateV6', 'schema': '{\\n  \"$schema\": \"http://json-schema.org/draft-07/schema\",\\n  \"type\": \"object\",\\n  \"properties\": {\\n    \"TrainingCertificate\": {\\n      \"$ref\": \"#/definitions/TrainingCertificate\"\\n    }\\n  },\\n  \"required\": [\\n    \"TrainingCertificate\"\\n  ],\\n  \"title\": \"TrainingCertificate\",\\n  \"definitions\": {\\n    \"TrainingCertificate\": {\\n      \"$id\": \"#/properties/TrainingCertificate\",\\n      \"type\": \"object\",\\n      \"title\": \"The TrainingCertificate Schema\",\\n      \"required\": [\\n        \"name\",\\n        \"contact\"\\n      ],\\n      \"properties\": {\\n        \"name\": {\\n          \"type\": \"string\"\\n        },\\n        \"trainingTitle\": {\\n          \"type\": \"string\"\\n        },\\n        \"contact\": {\\n          \"type\": \"string\"\\n        },\\n        \"date\": {\\n          \"type\": \"string\",\\n          \"format\": \"date\"\\n        },\\n        \"note\": {\\n          \"type\": \"string\"\\n        }\\n      }\\n    }\\n  },\\n  \"_osConfig\": {\\n    \"uniqueIndexFields\": [\\n      \"contact\"\\n    ],\\n    \"ownershipAttributes\": [],\\n    \"roles\": [],\\n    \"inviteRoles\": [\\n      \"anonymous\"\\n    ],\\n    \"enableLogin\": false,\\n    \"credentialTemplate\": {\\n      \"@context\": [\\n        \"https://www.w3.org/2018/credentials/v1\",\\n        \"https://gist.githubusercontent.com/dileepbapat/eb932596a70f75016411cc871113a789/raw/498e5af1d94784f114b32c1ab827f951a8a24def/skill\"\\n      ],\\n      \"type\": [\\n        \"VerifiableCredential\"\\n      ],\\n      \"issuanceDate\": \"2021-08-27T10:57:57.237Z\",\\n      \"credentialSubject\": {\\n        \"type\": \"Person\",\\n        \"name\": \"{{name}}\",\\n        \"trainedOn\": \"{{trainingTitle}}\"\\n      },\\n      \"issuer\": \"did:web:sunbirdrc.dev/vc/skill\"\\n    },\\n    \"certificateTemplates\": {\\n      \"html\": \"https://raw.githubusercontent.com/dileepbapat/ref-sunbirdrc-certificate/main/schemas/templates/TrainingCertificate.html\",\\n      \"svg\": \"https://raw.githubusercontent.com/dileepbapat/ref-sunbirdrc-certificate/main/schemas/templates/TrainingCertificate.svg\"\\n    }\\n  }\\n}', 'osOwner': ['5bd78689-d7fa-4e34-b30e-0e55f5e071ad'], 'osCreatedAt': '2022-09-09T11:11:56.249Z', 'osUpdatedAt': '2022-09-09T11:11:56.249Z', 'osCreatedBy': '5bd78689-d7fa-4e34-b30e-0e55f5e071ad', 'osUpdatedBy': '5bd78689-d7fa-4e34-b30e-0e55f5e071ad', 'osid': '1-380a33e7-ec32-40f2-9b0f-5f15b0a958ff'}]\n",
      "TrainingCertificateV6\n"
     ]
    }
   ],
   "source": [
    "schemaRequestBody = {\n",
    "  \"entity\": \"Schema\",\n",
    "    \"filters\": {}\n",
    "}\n",
    "headers = {\n",
    "  'Content-Type': 'application/json',\n",
    "    'Authorization': 'Bearer ' + token\n",
    "}\n",
    "\n",
    "response = requests.request(\"POST\", registryUrl + \"Schema/search\", headers=headers, json=schemaRequestBody)\n",
    "\n",
    "print(response.json())\n",
    "for j in response.json():\n",
    "    print(j['name'])"
   ]
  },
  {
   "cell_type": "code",
   "execution_count": 13,
   "id": "ea111905-0af2-411a-b154-dbccf5f2c89e",
   "metadata": {
    "pycharm": {
     "name": "#%%\n"
    }
   },
   "outputs": [
    {
     "name": "stdout",
     "output_type": "stream",
     "text": [
      "<Response [200]>\n",
      "[{'schema': '{\\n  \"$schema\": \"http://json-schema.org/draft-07/schema\",\\n  \"type\": \"object\",\\n  \"properties\": {\\n    \"TrainingCertificate\": {\\n      \"$ref\": \"#/definitions/TrainingCertificate\"\\n    }\\n  },\\n  \"required\": [\\n    \"TrainingCertificate\"\\n  ],\\n  \"title\": \"TrainingCertificate\",\\n  \"definitions\": {\\n    \"TrainingCertificate\": {\\n      \"$id\": \"#/properties/TrainingCertificate\",\\n      \"type\": \"object\",\\n      \"title\": \"The TrainingCertificate Schema\",\\n      \"required\": [\\n        \"name\",\\n        \"contact\"\\n      ],\\n      \"properties\": {\\n        \"name\": {\\n          \"type\": \"string\"\\n        },\\n        \"trainingTitle\": {\\n          \"type\": \"string\"\\n        },\\n        \"contact\": {\\n          \"type\": \"string\"\\n        },\\n        \"date\": {\\n          \"type\": \"string\",\\n          \"format\": \"date\"\\n        },\\n        \"note\": {\\n          \"type\": \"string\"\\n        }\\n      }\\n    }\\n  },\\n  \"_osConfig\": {\\n    \"uniqueIndexFields\": [\\n      \"contact\"\\n    ],\\n    \"ownershipAttributes\": [],\\n    \"roles\": [],\\n    \"inviteRoles\": [\\n      \"anonymous\"\\n    ],\\n    \"enableLogin\": false,\\n    \"credentialTemplate\": {\\n      \"@context\": [\\n        \"https://www.w3.org/2018/credentials/v1\",\\n        \"https://gist.githubusercontent.com/dileepbapat/eb932596a70f75016411cc871113a789/raw/498e5af1d94784f114b32c1ab827f951a8a24def/skill\"\\n      ],\\n      \"type\": [\\n        \"VerifiableCredential\"\\n      ],\\n      \"issuanceDate\": \"2021-08-27T10:57:57.237Z\",\\n      \"credentialSubject\": {\\n        \"type\": \"Person\",\\n        \"name\": \"{{name}}\",\\n        \"trainedOn\": \"{{trainingTitle}}\"\\n      },\\n      \"issuer\": \"did:web:sunbirdrc.dev/vc/skill\"\\n    },\\n    \"certificateTemplates\": {\\n      \"html\": \"https://raw.githubusercontent.com/dileepbapat/ref-sunbirdrc-certificate/main/schemas/templates/TrainingCertificate.html\",\\n      \"svg\": \"https://raw.githubusercontent.com/dileepbapat/ref-sunbirdrc-certificate/main/schemas/templates/TrainingCertificate.svg\"\\n    }\\n  }\\n}', 'osUpdatedAt': '2022-09-09T11:11:56.249Z', 'osCreatedAt': '2022-09-09T11:11:56.249Z', 'osUpdatedBy': '5bd78689-d7fa-4e34-b30e-0e55f5e071ad', 'name': 'TrainingCertificateV6', 'osCreatedBy': '5bd78689-d7fa-4e34-b30e-0e55f5e071ad', 'osid': '1-380a33e7-ec32-40f2-9b0f-5f15b0a958ff', 'osOwner': ['5bd78689-d7fa-4e34-b30e-0e55f5e071ad']}]\n",
      "1\n"
     ]
    }
   ],
   "source": [
    "schemaRequestBody = {\n",
    "  \"entity\": \"Schema\",\n",
    "    \"filters\": {}\n",
    "}\n",
    "headers = {\n",
    "  'Content-Type': 'application/json',\n",
    "    'Authorization': 'Bearer ' + token\n",
    "}\n",
    "\n",
    "response = requests.request(\"GET\", registryUrl + \"Schema\", headers=headers)\n",
    "print(response)\n",
    "print(response.json())\n",
    "print(len(response.json()))"
   ]
  },
  {
   "cell_type": "code",
   "execution_count": 14,
   "id": "f69d1417-2bf1-4748-8694-ad479342de0f",
   "metadata": {
    "pycharm": {
     "name": "#%%\n"
    }
   },
   "outputs": [
    {
     "name": "stdout",
     "output_type": "stream",
     "text": [
      "<Response [200]>\n",
      "[{'schema': '{\\n  \"$schema\": \"http://json-schema.org/draft-07/schema\",\\n  \"type\": \"object\",\\n  \"properties\": {\\n    \"TrainingCertificate\": {\\n      \"$ref\": \"#/definitions/TrainingCertificate\"\\n    }\\n  },\\n  \"required\": [\\n    \"TrainingCertificate\"\\n  ],\\n  \"title\": \"TrainingCertificate\",\\n  \"definitions\": {\\n    \"TrainingCertificate\": {\\n      \"$id\": \"#/properties/TrainingCertificate\",\\n      \"type\": \"object\",\\n      \"title\": \"The TrainingCertificate Schema\",\\n      \"required\": [\\n        \"name\",\\n        \"contact\"\\n      ],\\n      \"properties\": {\\n        \"name\": {\\n          \"type\": \"string\"\\n        },\\n        \"trainingTitle\": {\\n          \"type\": \"string\"\\n        },\\n        \"contact\": {\\n          \"type\": \"string\"\\n        },\\n        \"date\": {\\n          \"type\": \"string\",\\n          \"format\": \"date\"\\n        },\\n        \"note\": {\\n          \"type\": \"string\"\\n        }\\n      }\\n    }\\n  },\\n  \"_osConfig\": {\\n    \"uniqueIndexFields\": [\\n      \"contact\"\\n    ],\\n    \"ownershipAttributes\": [],\\n    \"roles\": [],\\n    \"inviteRoles\": [\\n      \"anonymous\"\\n    ],\\n    \"enableLogin\": false,\\n    \"credentialTemplate\": {\\n      \"@context\": [\\n        \"https://www.w3.org/2018/credentials/v1\",\\n        \"https://gist.githubusercontent.com/dileepbapat/eb932596a70f75016411cc871113a789/raw/498e5af1d94784f114b32c1ab827f951a8a24def/skill\"\\n      ],\\n      \"type\": [\\n        \"VerifiableCredential\"\\n      ],\\n      \"issuanceDate\": \"2021-08-27T10:57:57.237Z\",\\n      \"credentialSubject\": {\\n        \"type\": \"Person\",\\n        \"name\": \"{{name}}\",\\n        \"trainedOn\": \"{{trainingTitle}}\"\\n      },\\n      \"issuer\": \"did:web:sunbirdrc.dev/vc/skill\"\\n    },\\n    \"certificateTemplates\": {\\n      \"html\": \"https://raw.githubusercontent.com/dileepbapat/ref-sunbirdrc-certificate/main/schemas/templates/TrainingCertificate.html\",\\n      \"svg\": \"https://raw.githubusercontent.com/dileepbapat/ref-sunbirdrc-certificate/main/schemas/templates/TrainingCertificate.svg\"\\n    }\\n  }\\n}', 'osUpdatedAt': '2022-09-09T11:11:56.249Z', 'osCreatedAt': '2022-09-09T11:11:56.249Z', 'osUpdatedBy': '5bd78689-d7fa-4e34-b30e-0e55f5e071ad', 'name': 'TrainingCertificateV6', 'osCreatedBy': '5bd78689-d7fa-4e34-b30e-0e55f5e071ad', 'osid': '1-380a33e7-ec32-40f2-9b0f-5f15b0a958ff', 'osOwner': ['5bd78689-d7fa-4e34-b30e-0e55f5e071ad']}]\n",
      "1\n"
     ]
    }
   ],
   "source": [
    "schemaRequestBody = {\n",
    "  \"entity\": \"Schema\",\n",
    "    \"filters\": {}\n",
    "}\n",
    "headers = {\n",
    "  'Content-Type': 'application/json',\n",
    "    'Authorization': 'Bearer ' + token\n",
    "}\n",
    "\n",
    "response = requests.request(\"GET\", registryUrl + \"Schema\", headers=headers)\n",
    "print(response)\n",
    "print(response.json())\n",
    "print(len(response.json()))"
   ]
  },
  {
   "cell_type": "markdown",
   "id": "c54787df-fab0-4018-a279-e0813ce32ed9",
   "metadata": {
    "pycharm": {
     "name": "#%% md\n"
    }
   },
   "source": [
    "# Tests for newly added schem is here:"
   ]
  },
  {
   "cell_type": "code",
   "execution_count": 15,
   "id": "6833c1cf-6a57-4536-aa2f-9781d6c17c24",
   "metadata": {
    "pycharm": {
     "name": "#%% md\n"
    }
   },
   "outputs": [
    {
     "name": "stdout",
     "output_type": "stream",
     "text": [
      "['/api/docs/TrainingCertificate.json', '/api/docs/Schema.json']\n"
     ]
    }
   ],
   "source": [
    "\n",
    "resp = requests.get(\"%sapi/docs/swagger.json\"%registryBaseUrl)\n",
    "assert resp.status_code == 200\n",
    "assert resp.json()[\"swagger\"] == \"2.0\"\n",
    "assert resp.json()[\"paths\"] != None\n",
    "\n",
    "swaggerJson = resp.json()\n",
    "swaggerJson[\"paths\"].keys()\n",
    "\n",
    "jsonUrls = [f for f in swaggerJson[\"paths\"].keys() if \".json\" in f]\n",
    "print(jsonUrls)\n",
    "jsonUrl = jsonUrls[0]\n",
    "\n",
    "resp = requests.get(\"%s%s\"%(registryBaseUrl, jsonUrl))\n",
    "assert resp.status_code == 200\n"
   ]
  },
  {
   "cell_type": "code",
   "execution_count": 16,
   "id": "71b378ad",
   "metadata": {
    "pycharm": {
     "name": "#%%\n"
    }
   },
   "outputs": [
    {
     "name": "stdout",
     "output_type": "stream",
     "text": [
      "Available entities  ['TrainingCertificate']\n",
      "Using entity TrainingCertificate\n"
     ]
    }
   ],
   "source": [
    "resp.json()\n",
    "entities = list(resp.json().keys())\n",
    "print(\"Available entities \", entities)\n",
    "entity_name='TrainingCertificate'\n",
    "print(\"Using entity %s\"%entity_name)\n"
   ]
  },
  {
   "cell_type": "markdown",
   "id": "15bc7db7-65f0-43fe-bd08-e5b5b62f18e9",
   "metadata": {
    "pycharm": {
     "name": "#%% md\n"
    }
   },
   "source": [
    "# Create entity"
   ]
  },
  {
   "cell_type": "code",
   "execution_count": 17,
   "id": "4d756b26-9791-4493-9ddb-cef6994dadf9",
   "metadata": {
    "pycharm": {
     "name": "#%%\n"
    }
   },
   "outputs": [
    {
     "name": "stdout",
     "output_type": "stream",
     "text": [
      "<Response [200]>\n"
     ]
    }
   ],
   "source": [
    "userId =str(random.randint(1e10,1e11))\n",
    "headers = {\n",
    "  'Content-Type': 'application/json',\n",
    "    'Authorization': 'Bearer ' + token\n",
    "}\n",
    "resp = requests.post(\"%s%s\"%(registryBaseUrl, '/api/v1/%s'%'TrainingCertificate'), json={\n",
    "    \"name\":\"Sunbird Learner\", \n",
    "    \"contact\": userId, \n",
    "    \"trainingTitle\":\"Sunbird RC Certificate Module\"\n",
    "    \n",
    "}, headers=headers)\n",
    "print(resp)\n",
    "assert resp.status_code == 200 or print (resp.text)\n",
    "idx = resp.json()[\"result\"][entity_name][\"osid\"]\n"
   ]
  },
  {
   "cell_type": "code",
   "execution_count": 18,
   "id": "5cbb03ea-76e5-46eb-8ae9-0b6245b065c1",
   "metadata": {
    "pycharm": {
     "name": "#%%\n"
    }
   },
   "outputs": [
    {
     "name": "stdout",
     "output_type": "stream",
     "text": [
      "{'id': 'sunbird-rc.registry.create', 'ver': '1.0', 'ets': 1662721942762, 'params': {'resmsgid': '', 'msgid': 'c11bfdb1-0e24-450b-85e3-efa32dbe9bfd', 'err': '', 'status': 'SUCCESSFUL', 'errmsg': ''}, 'responseCode': 'OK', 'result': {'TrainingCertificate': {'osid': '1-03284afa-7378-40c8-9777-f88652268e91'}}}\n"
     ]
    }
   ],
   "source": [
    "print(resp.json())\n",
    "resp.status_code, userId\n",
    "idx = resp.json()[\"result\"][entity_name][\"osid\"]"
   ]
  },
  {
   "cell_type": "markdown",
   "id": "12c90402-5f3b-40e1-a73c-d3706987f43f",
   "metadata": {
    "pycharm": {
     "name": "#%% md\n"
    }
   },
   "source": [
    "# get entity"
   ]
  },
  {
   "cell_type": "code",
   "execution_count": 19,
   "id": "a138c2f3-4632-43f8-8832-57905bbf17f4",
   "metadata": {
    "pycharm": {
     "name": "#%%\n"
    }
   },
   "outputs": [
    {
     "name": "stdout",
     "output_type": "stream",
     "text": [
      "{\"@context\": [\"https://www.w3.org/2018/credentials/v1\", \"https://gist.githubusercontent.com/dileepbapat/eb932596a70f75016411cc871113a789/raw/498e5af1d94784f114b32c1ab827f951a8a24def/skill\"], \"type\": [\"VerifiableCredential\"], \"issuanceDate\": \"2021-08-27T10:57:57.237Z\", \"credentialSubject\": {\"type\": \"Person\", \"name\": \"Sunbird Learner\", \"trainedOn\": \"Sunbird RC Certificate Module\"}, \"issuer\": \"did:web:sunbirdrc.dev/vc/skill\", \"proof\": {\"type\": \"RsaSignature2018\", \"created\": \"2022-09-09T11:12:22Z\", \"verificationMethod\": \"did:india\", \"proofPurpose\": \"assertionMethod\", \"jws\": \"eyJhbGciOiJQUzI1NiIsImI2NCI6ZmFsc2UsImNyaXQiOlsiYjY0Il19..FuPCVKhNoVOElRMmYrf9nFZZk8bxz0wpOaIVQ1HVok7zNkR4Bya6YVyXWpkZWj3Cz8PU0-P40IUVNdJRaVNjOVU1fmVzqYJkeUbAlufYGpG_uSc7DX9xMO4bpU0Icpzl1Nm-_XnhwlAYyvtLLeYDZIwOo3Eni6YUDTKDxCtfnB9wx1yrLJ_febDz7SmWSH_uajU_schy046q9FMAsXdKckoPFjHrDh8IZD8c_xFbDqO2Y3YZ_U9a42Yn2eUWWtkxmW7wClwvvnPes7nNAtOvzscf9GiTph4RwnvHybnXB2ISYs2Dg4XqA6kFF_QMt5NZnJ-62NBFgmYYoYy0Ah3EvQ\"}}\n"
     ]
    }
   ],
   "source": [
    "headers = {\n",
    "  'Content-Type': 'application/json',\n",
    "    'Authorization': 'Bearer ' + token,\n",
    "    \"Accept\":\"application/vc+ld+json\"\n",
    "}\n",
    "resp = requests.get(\"%sapi/v1/%s/%s\"%(registryBaseUrl, entity_name, idx), headers=headers)\n",
    "print(json.dumps(resp.json()))\n",
    "assert resp.json()[\"proof\"][\"type\"] == \"RsaSignature2018\"\n"
   ]
  },
  {
   "cell_type": "markdown",
   "id": "daa678a8-1176-43f3-9fc5-4f5d79a6bc65",
   "metadata": {
    "pycharm": {
     "name": "#%% md\n"
    }
   },
   "source": [
    "# get certificate pdf"
   ]
  },
  {
   "cell_type": "code",
   "execution_count": 20,
   "id": "0cd291cb-6ab8-4f20-b608-d857fc1bb060",
   "metadata": {
    "pycharm": {
     "name": "#%%\n"
    }
   },
   "outputs": [
    {
     "data": {
      "text/plain": [
       "[]"
      ]
     },
     "execution_count": 20,
     "metadata": {},
     "output_type": "execute_result"
    }
   ],
   "source": [
    "headers = {\n",
    "  'Content-Type': 'application/json',\n",
    "    'Authorization': 'Bearer ' + token,\n",
    "\"Accept\":\"application/pdf\", \n",
    "    \"template\": \"https://raw.githubusercontent.com/dileepbapat/ref-sunbirdrc-certificate/main/schemas/templates/TrainingCertificate.html\"\n",
    "}\n",
    "resp = requests.get(\"%s/api/v1/%s/%s\"%(registryBaseUrl, entity_name, idx), headers=headers)\n",
    "(resp.status_code, resp.content)\n",
    "\n",
    "assert resp.content[:5].decode().startswith(\"%PDF\")\n",
    "with open('sample.pdf', 'wb') as f:\n",
    "    f.write(resp.content)\n",
    "\n",
    "%system open 'sample.pdf'"
   ]
  },
  {
   "cell_type": "markdown",
   "id": "09260948-78f7-4067-9891-165b1b5ac255",
   "metadata": {
    "pycharm": {
     "name": "#%% md\n"
    }
   },
   "source": [
    "# Delete schema"
   ]
  },
  {
   "cell_type": "code",
   "execution_count": 21,
   "id": "46acfcb7-c158-4f1b-9608-49f557ff6ad9",
   "metadata": {
    "pycharm": {
     "name": "#%%\n"
    }
   },
   "outputs": [
    {
     "name": "stdout",
     "output_type": "stream",
     "text": [
      "<Response [200]>\n",
      "{'id': 'sunbird-rc.registry.delete', 'ver': '1.0', 'ets': 1662721955778, 'params': {'resmsgid': '', 'msgid': '8cd471de-4f3d-499b-b1b3-a177645aaa77', 'err': '', 'status': 'SUCCESSFUL', 'errmsg': ''}, 'responseCode': 'OK'}\n",
      "5\n"
     ]
    }
   ],
   "source": [
    "schemaRequestBody = {\n",
    "  \"entity\": \"Schema\",\n",
    "    \"filters\": {}\n",
    "}\n",
    "headers = {\n",
    "  'Content-Type': 'application/json',\n",
    "    'Authorization': 'Bearer ' + token\n",
    "}\n",
    "\n",
    "response = requests.request(\"DELETE\", registryUrl + \"Schema/\"+schemaOsid, headers=headers)\n",
    "print(response)\n",
    "print(response.json())\n",
    "print(len(response.json()))"
   ]
  },
  {
   "cell_type": "code",
   "execution_count": null,
   "id": "546f0c73-05c6-47f6-90c2-e3d914f1f320",
   "metadata": {
    "pycharm": {
     "name": "#%%\n"
    }
   },
   "outputs": [],
   "source": []
  }
 ],
 "metadata": {
  "kernelspec": {
   "display_name": "Python 3 (ipykernel)",
   "language": "python",
   "name": "python3"
  },
  "language_info": {
   "codemirror_mode": {
    "name": "ipython",
    "version": 3
   },
   "file_extension": ".py",
   "mimetype": "text/x-python",
   "name": "python",
   "nbconvert_exporter": "python",
   "pygments_lexer": "ipython3",
   "version": "3.9.13"
  }
 },
 "nbformat": 4,
 "nbformat_minor": 5
}
