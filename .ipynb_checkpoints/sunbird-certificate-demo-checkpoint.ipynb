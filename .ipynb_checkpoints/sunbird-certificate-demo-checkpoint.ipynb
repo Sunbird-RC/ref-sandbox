{
 "cells": [
  {
   "cell_type": "code",
   "execution_count": 23,
   "id": "c9e62b35-8012-4614-9d3d-e9212e7b698f",
   "metadata": {
    "pycharm": {
     "is_executing": false,
     "name": "#%%\n"
    }
   },
   "outputs": [],
   "source": [
    "import requests\n",
    "import random\n",
    "import json\n",
    "import random\n",
    "  "
   ]
  },
  {
   "cell_type": "code",
   "execution_count": null,
   "id": "626b7b38-1773-4d3d-b1df-2e53f9372700",
   "metadata": {
    "pycharm": {
     "name": "#%%\n"
    }
   },
   "outputs": [],
   "source": []
  },
  {
   "cell_type": "code",
   "execution_count": 24,
   "id": "bc7348d4-396b-4319-b6f8-47c210dc0768",
   "metadata": {
    "pycharm": {
     "is_executing": false,
     "name": "#%%\n"
    }
   },
   "outputs": [],
   "source": [
    "registryBaseUrl = \"https://sandbox-sbrc.g2pconnect.org/registry/\"\n",
    "registryUrl = \"https://sandbox-sbrc.g2pconnect.org/registry/api/v1/\"\n",
    "keycloakUrl = \"https://sandbox-sbrc.g2pconnect.org/\"\n",
    "client_id='sandbox-client-1'\n",
    "client_secret='xxxxx'"
   ]
  },
  {
   "cell_type": "code",
   "execution_count": 25,
   "id": "fdc92d91-f63e-4a0c-94c0-1d4d9b304fb3",
   "metadata": {
    "pycharm": {
     "name": "#%%\n"
    }
   },
   "outputs": [
    {
     "name": "stdout",
     "output_type": "stream",
     "text": [
      "{\"id\":\"sunbird-rc.registry.health\",\"ver\":\"1.0\",\"ets\":1662722985040,\"params\":{\"resmsgid\":\"\",\"msgid\":\"7a7033c5-fe41-40c7-a089-17c95926372b\",\"err\":\"\",\"status\":\"SUCCESSFUL\",\"errmsg\":\"\"},\"responseCode\":\"OK\",\"result\":{\"name\":\"sunbirdrc-registry-api\",\"healthy\":false,\"checks\":[{\"name\":\"sunbirdrc.database\",\"healthy\":true,\"err\":\"\",\"errmsg\":\"\"},{\"name\":\"sunbird.signature.service\",\"healthy\":false,\"err\":\"\",\"errmsg\":\"\"}]}}\n"
     ]
    }
   ],
   "source": [
    "response = requests.get('%s/health'%(registryBaseUrl))\n",
    "print(response.text)\n",
    "assert response.status_code == 200 "
   ]
  },
  {
   "cell_type": "markdown",
   "id": "28ce5762-04ab-4fb2-b4ee-180a57e2d769",
   "metadata": {
    "pycharm": {
     "name": "#%% md\n"
    }
   },
   "source": [
    "# get client token\n"
   ]
  },
  {
   "cell_type": "code",
   "execution_count": 26,
   "id": "959b097e-bc94-449c-87e9-fbb12cd3694f",
   "metadata": {
    "pycharm": {
     "name": "#%%\n"
    }
   },
   "outputs": [
    {
     "name": "stdout",
     "output_type": "stream",
     "text": [
      "{'access_token': 'eyJhbGciOiJSUzI1NiIsInR5cCIgOiAiSldUIiwia2lkIiA6ICJyQVBqamxGa3pzS1ZvVG5hRHg3d1ZaMnB6YnlNbDBoT2RVYTFUbUkxdkl3In0.eyJleHAiOjE2NjI3MjM1ODYsImlhdCI6MTY2MjcyMjk4NiwianRpIjoiODhlYWIxYjItYmY3MS00ODBhLWEyYjYtMjVhNTUxM2Y3MTY0IiwiaXNzIjoiaHR0cHM6Ly9zYW5kYm94LXNicmMuZzJwY29ubmVjdC5vcmcvYXV0aC9yZWFsbXMvc3VuYmlyZC1yYyIsImF1ZCI6ImFjY291bnQiLCJzdWIiOiI1YmQ3ODY4OS1kN2ZhLTRlMzQtYjMwZS0wZTU1ZjVlMDcxYWQiLCJ0eXAiOiJCZWFyZXIiLCJhenAiOiJzYW5kYm94LWNsaWVudC0xIiwiYWNyIjoiMSIsInJlYWxtX2FjY2VzcyI6eyJyb2xlcyI6WyJvZmZsaW5lX2FjY2VzcyIsImFkbWluIiwidW1hX2F1dGhvcml6YXRpb24iLCJkZWZhdWx0LXJvbGVzLW5kZWFyIl19LCJyZXNvdXJjZV9hY2Nlc3MiOnsiYWNjb3VudCI6eyJyb2xlcyI6WyJtYW5hZ2UtYWNjb3VudCIsIm1hbmFnZS1hY2NvdW50LWxpbmtzIiwidmlldy1wcm9maWxlIl19fSwic2NvcGUiOiJwcm9maWxlIGVtYWlsIiwiY2xpZW50SG9zdCI6IjMuNy44Ny4xMjUiLCJlbWFpbF92ZXJpZmllZCI6ZmFsc2UsImNsaWVudElkIjoic2FuZGJveC1jbGllbnQtMSIsInByZWZlcnJlZF91c2VybmFtZSI6InNlcnZpY2UtYWNjb3VudC1zYW5kYm94LWNsaWVudC0xIiwiY2xpZW50QWRkcmVzcyI6IjMuNy44Ny4xMjUifQ.oqxPoxdhcKhBjX-t7ocaumV37tOw50_8BEnKPMuZUQghIiVygQ8PzDt3XZ7pWUXFkR9gkhpu7nbvd9eVwuC20LgZVLi5b-yX9tGpACnz2EyzmGuxZATLfnxFyZt6NCpAEeAP6iwPHF0hGZClR7aSWt4occuoYkLjFxzq95U0VcRS2yda9GicjJsLyi7cr5xRtj7xn4LMr--IS5uMP3lpXY4IaKU0AW22uf1lqQ5wjaKhgPjsIAfpCBYGu09I0QRSV60kKt48zLpQUFqDtjPOKkrv9IX0_rY5gpHhIA06TFdvtPe3HCe0E-Horf4RxRnxjcwywHWu5OvsP0MBGZBmww', 'expires_in': 600, 'refresh_expires_in': 0, 'token_type': 'Bearer', 'not-before-policy': 1607576887, 'scope': 'profile email'}\n",
      "eyJhbGciOiJSUzI1NiIsInR5cCIgOiAiSldUIiwia2lkIiA6ICJyQVBqamxGa3pzS1ZvVG5hRHg3d1ZaMnB6YnlNbDBoT2RVYTFUbUkxdkl3In0.eyJleHAiOjE2NjI3MjM1ODYsImlhdCI6MTY2MjcyMjk4NiwianRpIjoiODhlYWIxYjItYmY3MS00ODBhLWEyYjYtMjVhNTUxM2Y3MTY0IiwiaXNzIjoiaHR0cHM6Ly9zYW5kYm94LXNicmMuZzJwY29ubmVjdC5vcmcvYXV0aC9yZWFsbXMvc3VuYmlyZC1yYyIsImF1ZCI6ImFjY291bnQiLCJzdWIiOiI1YmQ3ODY4OS1kN2ZhLTRlMzQtYjMwZS0wZTU1ZjVlMDcxYWQiLCJ0eXAiOiJCZWFyZXIiLCJhenAiOiJzYW5kYm94LWNsaWVudC0xIiwiYWNyIjoiMSIsInJlYWxtX2FjY2VzcyI6eyJyb2xlcyI6WyJvZmZsaW5lX2FjY2VzcyIsImFkbWluIiwidW1hX2F1dGhvcml6YXRpb24iLCJkZWZhdWx0LXJvbGVzLW5kZWFyIl19LCJyZXNvdXJjZV9hY2Nlc3MiOnsiYWNjb3VudCI6eyJyb2xlcyI6WyJtYW5hZ2UtYWNjb3VudCIsIm1hbmFnZS1hY2NvdW50LWxpbmtzIiwidmlldy1wcm9maWxlIl19fSwic2NvcGUiOiJwcm9maWxlIGVtYWlsIiwiY2xpZW50SG9zdCI6IjMuNy44Ny4xMjUiLCJlbWFpbF92ZXJpZmllZCI6ZmFsc2UsImNsaWVudElkIjoic2FuZGJveC1jbGllbnQtMSIsInByZWZlcnJlZF91c2VybmFtZSI6InNlcnZpY2UtYWNjb3VudC1zYW5kYm94LWNsaWVudC0xIiwiY2xpZW50QWRkcmVzcyI6IjMuNy44Ny4xMjUifQ.oqxPoxdhcKhBjX-t7ocaumV37tOw50_8BEnKPMuZUQghIiVygQ8PzDt3XZ7pWUXFkR9gkhpu7nbvd9eVwuC20LgZVLi5b-yX9tGpACnz2EyzmGuxZATLfnxFyZt6NCpAEeAP6iwPHF0hGZClR7aSWt4occuoYkLjFxzq95U0VcRS2yda9GicjJsLyi7cr5xRtj7xn4LMr--IS5uMP3lpXY4IaKU0AW22uf1lqQ5wjaKhgPjsIAfpCBYGu09I0QRSV60kKt48zLpQUFqDtjPOKkrv9IX0_rY5gpHhIA06TFdvtPe3HCe0E-Horf4RxRnxjcwywHWu5OvsP0MBGZBmww\n"
     ]
    }
   ],
   "source": [
    "def getToken(clientId, clientSecret):\n",
    "    headers = {\n",
    "        'content-type': 'application/x-www-form-urlencoded',\n",
    "    }\n",
    "\n",
    "    data = {\n",
    "      'client_id': clientId,\n",
    "      'client_secret': clientSecret,\n",
    "      'grant_type': 'client_credentials'\n",
    "    }\n",
    "\n",
    "    response = requests.post('%sauth/realms/sunbird-rc/protocol/openid-connect/token'%(keycloakUrl), headers=headers, data=data)\n",
    "    print(response.json())\n",
    "#     print(response.status_code)\n",
    "    token = response.json()[\"access_token\"]\n",
    "    return token\n",
    "\n",
    "token = getToken(client_id, client_secret)\n",
    "print(token)"
   ]
  },
  {
   "cell_type": "markdown",
   "id": "52c10e0b-2c99-44dd-932e-b1ccc3dde242",
   "metadata": {
    "pycharm": {
     "name": "#%% md\n"
    }
   },
   "source": [
    "# create a schema"
   ]
  },
  {
   "cell_type": "code",
   "execution_count": 27,
   "id": "e35ee24c-0e23-4137-81d1-eb21eb2b1a97",
   "metadata": {
    "pycharm": {
     "name": "#%%\n"
    }
   },
   "outputs": [
    {
     "name": "stdout",
     "output_type": "stream",
     "text": [
      "200\n",
      "{\"id\":\"sunbird-rc.registry.create\",\"ver\":\"1.0\",\"ets\":1662722988961,\"params\":{\"resmsgid\":\"\",\"msgid\":\"f8f714e0-e7e2-4c1d-adb6-2990ae15d6b4\",\"err\":\"\",\"status\":\"SUCCESSFUL\",\"errmsg\":\"\"},\"responseCode\":\"OK\",\"result\":{\"Schema\":{\"osid\":\"1-bbc8e00c-4db1-4db4-86bf-082e19b02fef\"}}}\n",
      "1-bbc8e00c-4db1-4db4-86bf-082e19b02fef\n"
     ]
    }
   ],
   "source": [
    "\n",
    "schemaRequestBody = {\n",
    "  \"name\": \"TrainingCertificateV\"+str(random.randrange(0, 100,1)),\n",
    "    \"schema\": \"{\\n  \\\"$schema\\\": \\\"http://json-schema.org/draft-07/schema\\\",\\n  \\\"type\\\": \\\"object\\\",\\n  \\\"properties\\\": {\\n    \\\"TrainingCertificate\\\": {\\n      \\\"$ref\\\": \\\"#/definitions/TrainingCertificate\\\"\\n    }\\n  },\\n  \\\"required\\\": [\\n    \\\"TrainingCertificate\\\"\\n  ],\\n  \\\"title\\\": \\\"TrainingCertificate\\\",\\n  \\\"definitions\\\": {\\n    \\\"TrainingCertificate\\\": {\\n      \\\"$id\\\": \\\"#/properties/TrainingCertificate\\\",\\n      \\\"type\\\": \\\"object\\\",\\n      \\\"title\\\": \\\"The TrainingCertificate Schema\\\",\\n      \\\"required\\\": [\\n        \\\"name\\\",\\n        \\\"contact\\\"\\n      ],\\n      \\\"properties\\\": {\\n        \\\"name\\\": {\\n          \\\"type\\\": \\\"string\\\"\\n        },\\n        \\\"trainingTitle\\\": {\\n          \\\"type\\\": \\\"string\\\"\\n        },\\n        \\\"contact\\\": {\\n          \\\"type\\\": \\\"string\\\"\\n        },\\n        \\\"date\\\": {\\n          \\\"type\\\": \\\"string\\\",\\n          \\\"format\\\": \\\"date\\\"\\n        },\\n        \\\"note\\\": {\\n          \\\"type\\\": \\\"string\\\"\\n        }\\n      }\\n    }\\n  },\\n  \\\"_osConfig\\\": {\\n    \\\"uniqueIndexFields\\\": [\\n      \\\"contact\\\"\\n    ],\\n    \\\"ownershipAttributes\\\": [],\\n    \\\"roles\\\": [],\\n    \\\"inviteRoles\\\": [\\n      \\\"anonymous\\\"\\n    ],\\n    \\\"enableLogin\\\": false,\\n    \\\"credentialTemplate\\\": {\\n      \\\"@context\\\": [\\n        \\\"https://www.w3.org/2018/credentials/v1\\\",\\n        \\\"https://gist.githubusercontent.com/dileepbapat/eb932596a70f75016411cc871113a789/raw/498e5af1d94784f114b32c1ab827f951a8a24def/skill\\\"\\n      ],\\n      \\\"type\\\": [\\n        \\\"VerifiableCredential\\\"\\n      ],\\n      \\\"issuanceDate\\\": \\\"2021-08-27T10:57:57.237Z\\\",\\n      \\\"credentialSubject\\\": {\\n        \\\"type\\\": \\\"Person\\\",\\n        \\\"name\\\": \\\"{{name}}\\\",\\n        \\\"trainedOn\\\": \\\"{{trainingTitle}}\\\"\\n      },\\n      \\\"issuer\\\": \\\"did:web:sunbirdrc.dev/vc/skill\\\"\\n    },\\n    \\\"certificateTemplates\\\": {\\n      \\\"html\\\": \\\"https://raw.githubusercontent.com/dileepbapat/ref-sunbirdrc-certificate/main/schemas/templates/TrainingCertificate.html\\\",\\n      \\\"svg\\\": \\\"https://raw.githubusercontent.com/dileepbapat/ref-sunbirdrc-certificate/main/schemas/templates/TrainingCertificate.svg\\\"\\n    }\\n  }\\n}\"\n",
    "}\n",
    "headers = {\n",
    "  'Content-Type': 'application/json',\n",
    "    'Authorization': 'Bearer ' + token\n",
    "}\n",
    "\n",
    "response = requests.request(\"POST\", registryUrl + \"Schema\", headers=headers, json=schemaRequestBody)\n",
    "\n",
    "print(response.status_code)\n",
    "print(response.text)\n",
    "assert response.status_code == 200 \n",
    "schemaOsid = response.json()[\"result\"][\"Schema\"][\"osid\"]\n",
    "print(schemaOsid)"
   ]
  },
  {
   "cell_type": "code",
   "execution_count": 28,
   "id": "2afc69be-7116-4616-960b-ce36d83757b3",
   "metadata": {
    "pycharm": {
     "name": "#%%\n"
    }
   },
   "outputs": [
    {
     "data": {
      "text/plain": [
       "<Response [200]>"
      ]
     },
     "execution_count": 28,
     "metadata": {},
     "output_type": "execute_result"
    }
   ],
   "source": [
    "response"
   ]
  },
  {
   "cell_type": "markdown",
   "id": "2675f607-b28d-460a-8764-dc2b77fb5c1f",
   "metadata": {
    "pycharm": {
     "name": "#%% md\n"
    }
   },
   "source": [
    "# get all schemas"
   ]
  },
  {
   "cell_type": "code",
   "execution_count": 29,
   "id": "3f9386dc-0f0b-4624-ae05-0c4d0ef8c418",
   "metadata": {
    "pycharm": {
     "name": "#%%\n"
    }
   },
   "outputs": [
    {
     "name": "stdout",
     "output_type": "stream",
     "text": [
      "[{'name': 'TrainingCertificateV99', 'schema': '{\\n  \"$schema\": \"http://json-schema.org/draft-07/schema\",\\n  \"type\": \"object\",\\n  \"properties\": {\\n    \"TrainingCertificate\": {\\n      \"$ref\": \"#/definitions/TrainingCertificate\"\\n    }\\n  },\\n  \"required\": [\\n    \"TrainingCertificate\"\\n  ],\\n  \"title\": \"TrainingCertificate\",\\n  \"definitions\": {\\n    \"TrainingCertificate\": {\\n      \"$id\": \"#/properties/TrainingCertificate\",\\n      \"type\": \"object\",\\n      \"title\": \"The TrainingCertificate Schema\",\\n      \"required\": [\\n        \"name\",\\n        \"contact\"\\n      ],\\n      \"properties\": {\\n        \"name\": {\\n          \"type\": \"string\"\\n        },\\n        \"trainingTitle\": {\\n          \"type\": \"string\"\\n        },\\n        \"contact\": {\\n          \"type\": \"string\"\\n        },\\n        \"date\": {\\n          \"type\": \"string\",\\n          \"format\": \"date\"\\n        },\\n        \"note\": {\\n          \"type\": \"string\"\\n        }\\n      }\\n    }\\n  },\\n  \"_osConfig\": {\\n    \"uniqueIndexFields\": [\\n      \"contact\"\\n    ],\\n    \"ownershipAttributes\": [],\\n    \"roles\": [],\\n    \"inviteRoles\": [\\n      \"anonymous\"\\n    ],\\n    \"enableLogin\": false,\\n    \"credentialTemplate\": {\\n      \"@context\": [\\n        \"https://www.w3.org/2018/credentials/v1\",\\n        \"https://gist.githubusercontent.com/dileepbapat/eb932596a70f75016411cc871113a789/raw/498e5af1d94784f114b32c1ab827f951a8a24def/skill\"\\n      ],\\n      \"type\": [\\n        \"VerifiableCredential\"\\n      ],\\n      \"issuanceDate\": \"2021-08-27T10:57:57.237Z\",\\n      \"credentialSubject\": {\\n        \"type\": \"Person\",\\n        \"name\": \"{{name}}\",\\n        \"trainedOn\": \"{{trainingTitle}}\"\\n      },\\n      \"issuer\": \"did:web:sunbirdrc.dev/vc/skill\"\\n    },\\n    \"certificateTemplates\": {\\n      \"html\": \"https://raw.githubusercontent.com/dileepbapat/ref-sunbirdrc-certificate/main/schemas/templates/TrainingCertificate.html\",\\n      \"svg\": \"https://raw.githubusercontent.com/dileepbapat/ref-sunbirdrc-certificate/main/schemas/templates/TrainingCertificate.svg\"\\n    }\\n  }\\n}', 'osOwner': ['5bd78689-d7fa-4e34-b30e-0e55f5e071ad'], 'osCreatedAt': '2022-09-09T11:29:49.297Z', 'osUpdatedAt': '2022-09-09T11:29:49.297Z', 'osCreatedBy': '5bd78689-d7fa-4e34-b30e-0e55f5e071ad', 'osUpdatedBy': '5bd78689-d7fa-4e34-b30e-0e55f5e071ad', 'osid': '1-bbc8e00c-4db1-4db4-86bf-082e19b02fef'}]\n",
      "TrainingCertificateV99\n"
     ]
    }
   ],
   "source": [
    "schemaRequestBody = {\n",
    "  \"entity\": \"Schema\",\n",
    "    \"filters\": {}\n",
    "}\n",
    "headers = {\n",
    "  'Content-Type': 'application/json',\n",
    "    'Authorization': 'Bearer ' + token\n",
    "}\n",
    "\n",
    "response = requests.request(\"POST\", registryUrl + \"Schema/search\", headers=headers, json=schemaRequestBody)\n",
    "\n",
    "print(response.json())\n",
    "for j in response.json():\n",
    "    print(j['name'])"
   ]
  },
  {
   "cell_type": "code",
   "execution_count": 30,
   "id": "ea111905-0af2-411a-b154-dbccf5f2c89e",
   "metadata": {
    "pycharm": {
     "name": "#%%\n"
    }
   },
   "outputs": [
    {
     "name": "stdout",
     "output_type": "stream",
     "text": [
      "<Response [200]>\n",
      "[{'schema': '{\\n  \"$schema\": \"http://json-schema.org/draft-07/schema\",\\n  \"type\": \"object\",\\n  \"properties\": {\\n    \"TrainingCertificate\": {\\n      \"$ref\": \"#/definitions/TrainingCertificate\"\\n    }\\n  },\\n  \"required\": [\\n    \"TrainingCertificate\"\\n  ],\\n  \"title\": \"TrainingCertificate\",\\n  \"definitions\": {\\n    \"TrainingCertificate\": {\\n      \"$id\": \"#/properties/TrainingCertificate\",\\n      \"type\": \"object\",\\n      \"title\": \"The TrainingCertificate Schema\",\\n      \"required\": [\\n        \"name\",\\n        \"contact\"\\n      ],\\n      \"properties\": {\\n        \"name\": {\\n          \"type\": \"string\"\\n        },\\n        \"trainingTitle\": {\\n          \"type\": \"string\"\\n        },\\n        \"contact\": {\\n          \"type\": \"string\"\\n        },\\n        \"date\": {\\n          \"type\": \"string\",\\n          \"format\": \"date\"\\n        },\\n        \"note\": {\\n          \"type\": \"string\"\\n        }\\n      }\\n    }\\n  },\\n  \"_osConfig\": {\\n    \"uniqueIndexFields\": [\\n      \"contact\"\\n    ],\\n    \"ownershipAttributes\": [],\\n    \"roles\": [],\\n    \"inviteRoles\": [\\n      \"anonymous\"\\n    ],\\n    \"enableLogin\": false,\\n    \"credentialTemplate\": {\\n      \"@context\": [\\n        \"https://www.w3.org/2018/credentials/v1\",\\n        \"https://gist.githubusercontent.com/dileepbapat/eb932596a70f75016411cc871113a789/raw/498e5af1d94784f114b32c1ab827f951a8a24def/skill\"\\n      ],\\n      \"type\": [\\n        \"VerifiableCredential\"\\n      ],\\n      \"issuanceDate\": \"2021-08-27T10:57:57.237Z\",\\n      \"credentialSubject\": {\\n        \"type\": \"Person\",\\n        \"name\": \"{{name}}\",\\n        \"trainedOn\": \"{{trainingTitle}}\"\\n      },\\n      \"issuer\": \"did:web:sunbirdrc.dev/vc/skill\"\\n    },\\n    \"certificateTemplates\": {\\n      \"html\": \"https://raw.githubusercontent.com/dileepbapat/ref-sunbirdrc-certificate/main/schemas/templates/TrainingCertificate.html\",\\n      \"svg\": \"https://raw.githubusercontent.com/dileepbapat/ref-sunbirdrc-certificate/main/schemas/templates/TrainingCertificate.svg\"\\n    }\\n  }\\n}', 'osUpdatedAt': '2022-09-09T11:29:49.297Z', 'osCreatedAt': '2022-09-09T11:29:49.297Z', 'osUpdatedBy': '5bd78689-d7fa-4e34-b30e-0e55f5e071ad', 'name': 'TrainingCertificateV99', 'osCreatedBy': '5bd78689-d7fa-4e34-b30e-0e55f5e071ad', 'osid': '1-bbc8e00c-4db1-4db4-86bf-082e19b02fef', 'osOwner': ['5bd78689-d7fa-4e34-b30e-0e55f5e071ad']}]\n",
      "1\n"
     ]
    }
   ],
   "source": [
    "schemaRequestBody = {\n",
    "  \"entity\": \"Schema\",\n",
    "    \"filters\": {}\n",
    "}\n",
    "headers = {\n",
    "  'Content-Type': 'application/json',\n",
    "    'Authorization': 'Bearer ' + token\n",
    "}\n",
    "\n",
    "response = requests.request(\"GET\", registryUrl + \"Schema\", headers=headers)\n",
    "print(response)\n",
    "print(response.json())\n",
    "print(len(response.json()))"
   ]
  },
  {
   "cell_type": "code",
   "execution_count": 31,
   "id": "f69d1417-2bf1-4748-8694-ad479342de0f",
   "metadata": {
    "pycharm": {
     "name": "#%%\n"
    }
   },
   "outputs": [
    {
     "name": "stdout",
     "output_type": "stream",
     "text": [
      "<Response [200]>\n",
      "[{'schema': '{\\n  \"$schema\": \"http://json-schema.org/draft-07/schema\",\\n  \"type\": \"object\",\\n  \"properties\": {\\n    \"TrainingCertificate\": {\\n      \"$ref\": \"#/definitions/TrainingCertificate\"\\n    }\\n  },\\n  \"required\": [\\n    \"TrainingCertificate\"\\n  ],\\n  \"title\": \"TrainingCertificate\",\\n  \"definitions\": {\\n    \"TrainingCertificate\": {\\n      \"$id\": \"#/properties/TrainingCertificate\",\\n      \"type\": \"object\",\\n      \"title\": \"The TrainingCertificate Schema\",\\n      \"required\": [\\n        \"name\",\\n        \"contact\"\\n      ],\\n      \"properties\": {\\n        \"name\": {\\n          \"type\": \"string\"\\n        },\\n        \"trainingTitle\": {\\n          \"type\": \"string\"\\n        },\\n        \"contact\": {\\n          \"type\": \"string\"\\n        },\\n        \"date\": {\\n          \"type\": \"string\",\\n          \"format\": \"date\"\\n        },\\n        \"note\": {\\n          \"type\": \"string\"\\n        }\\n      }\\n    }\\n  },\\n  \"_osConfig\": {\\n    \"uniqueIndexFields\": [\\n      \"contact\"\\n    ],\\n    \"ownershipAttributes\": [],\\n    \"roles\": [],\\n    \"inviteRoles\": [\\n      \"anonymous\"\\n    ],\\n    \"enableLogin\": false,\\n    \"credentialTemplate\": {\\n      \"@context\": [\\n        \"https://www.w3.org/2018/credentials/v1\",\\n        \"https://gist.githubusercontent.com/dileepbapat/eb932596a70f75016411cc871113a789/raw/498e5af1d94784f114b32c1ab827f951a8a24def/skill\"\\n      ],\\n      \"type\": [\\n        \"VerifiableCredential\"\\n      ],\\n      \"issuanceDate\": \"2021-08-27T10:57:57.237Z\",\\n      \"credentialSubject\": {\\n        \"type\": \"Person\",\\n        \"name\": \"{{name}}\",\\n        \"trainedOn\": \"{{trainingTitle}}\"\\n      },\\n      \"issuer\": \"did:web:sunbirdrc.dev/vc/skill\"\\n    },\\n    \"certificateTemplates\": {\\n      \"html\": \"https://raw.githubusercontent.com/dileepbapat/ref-sunbirdrc-certificate/main/schemas/templates/TrainingCertificate.html\",\\n      \"svg\": \"https://raw.githubusercontent.com/dileepbapat/ref-sunbirdrc-certificate/main/schemas/templates/TrainingCertificate.svg\"\\n    }\\n  }\\n}', 'osUpdatedAt': '2022-09-09T11:29:49.297Z', 'osCreatedAt': '2022-09-09T11:29:49.297Z', 'osUpdatedBy': '5bd78689-d7fa-4e34-b30e-0e55f5e071ad', 'name': 'TrainingCertificateV99', 'osCreatedBy': '5bd78689-d7fa-4e34-b30e-0e55f5e071ad', 'osid': '1-bbc8e00c-4db1-4db4-86bf-082e19b02fef', 'osOwner': ['5bd78689-d7fa-4e34-b30e-0e55f5e071ad']}]\n",
      "1\n"
     ]
    }
   ],
   "source": [
    "schemaRequestBody = {\n",
    "  \"entity\": \"Schema\",\n",
    "    \"filters\": {}\n",
    "}\n",
    "headers = {\n",
    "  'Content-Type': 'application/json',\n",
    "    'Authorization': 'Bearer ' + token\n",
    "}\n",
    "\n",
    "response = requests.request(\"GET\", registryUrl + \"Schema\", headers=headers)\n",
    "print(response)\n",
    "print(response.json())\n",
    "print(len(response.json()))"
   ]
  },
  {
   "cell_type": "markdown",
   "id": "c54787df-fab0-4018-a279-e0813ce32ed9",
   "metadata": {
    "pycharm": {
     "name": "#%% md\n"
    }
   },
   "source": [
    "# Tests for newly added schem is here:"
   ]
  },
  {
   "cell_type": "code",
   "execution_count": 32,
   "id": "6833c1cf-6a57-4536-aa2f-9781d6c17c24",
   "metadata": {
    "pycharm": {
     "name": "#%% md\n"
    }
   },
   "outputs": [
    {
     "name": "stdout",
     "output_type": "stream",
     "text": [
      "['/api/docs/TrainingCertificate.json', '/api/docs/Schema.json']\n"
     ]
    }
   ],
   "source": [
    "\n",
    "resp = requests.get(\"%sapi/docs/swagger.json\"%registryBaseUrl)\n",
    "assert resp.status_code == 200\n",
    "assert resp.json()[\"swagger\"] == \"2.0\"\n",
    "assert resp.json()[\"paths\"] != None\n",
    "\n",
    "swaggerJson = resp.json()\n",
    "swaggerJson[\"paths\"].keys()\n",
    "\n",
    "jsonUrls = [f for f in swaggerJson[\"paths\"].keys() if \".json\" in f]\n",
    "print(jsonUrls)\n",
    "jsonUrl = jsonUrls[0]\n",
    "\n",
    "resp = requests.get(\"%s%s\"%(registryBaseUrl, jsonUrl))\n",
    "assert resp.status_code == 200\n"
   ]
  },
  {
   "cell_type": "code",
   "execution_count": 33,
   "id": "71b378ad",
   "metadata": {
    "pycharm": {
     "name": "#%%\n"
    }
   },
   "outputs": [
    {
     "name": "stdout",
     "output_type": "stream",
     "text": [
      "Available entities  ['TrainingCertificate']\n",
      "Using entity TrainingCertificate\n"
     ]
    }
   ],
   "source": [
    "resp.json()\n",
    "entities = list(resp.json().keys())\n",
    "print(\"Available entities \", entities)\n",
    "entity_name='TrainingCertificate'\n",
    "print(\"Using entity %s\"%entity_name)\n"
   ]
  },
  {
   "cell_type": "markdown",
   "id": "15bc7db7-65f0-43fe-bd08-e5b5b62f18e9",
   "metadata": {
    "pycharm": {
     "name": "#%% md\n"
    }
   },
   "source": [
    "# Create entity"
   ]
  },
  {
   "cell_type": "code",
   "execution_count": 36,
   "id": "4d756b26-9791-4493-9ddb-cef6994dadf9",
   "metadata": {
    "pycharm": {
     "name": "#%%\n"
    }
   },
   "outputs": [
    {
     "name": "stdout",
     "output_type": "stream",
     "text": [
      "<Response [200]>\n"
     ]
    }
   ],
   "source": [
    "userId =str(random.randint(1e10,1e11))\n",
    "headers = {\n",
    "  'Content-Type': 'application/json',\n",
    "    'Authorization': 'Bearer ' + token\n",
    "}\n",
    "resp = requests.post(\"%s%s\"%(registryBaseUrl, '/api/v1/%s'%'TrainingCertificate'), json={\n",
    "    \"name\":\"Sunbird Learner\", \n",
    "    \"contact\": userId, \n",
    "    \"trainingTitle\":\"Sunbird RC Certificate Module\"\n",
    "    \n",
    "}, headers=headers)\n",
    "print(resp)\n",
    "assert resp.status_code == 200 or print (resp.text)\n",
    "idx = resp.json()[\"result\"][entity_name][\"osid\"]\n"
   ]
  },
  {
   "cell_type": "code",
   "execution_count": 37,
   "id": "5cbb03ea-76e5-46eb-8ae9-0b6245b065c1",
   "metadata": {
    "pycharm": {
     "name": "#%%\n"
    }
   },
   "outputs": [
    {
     "name": "stdout",
     "output_type": "stream",
     "text": [
      "{'id': 'sunbird-rc.registry.create', 'ver': '1.0', 'ets': 1662723028862, 'params': {'resmsgid': '', 'msgid': '99c95fc2-a09b-4ee6-95ea-ddc74d9e530c', 'err': '', 'status': 'SUCCESSFUL', 'errmsg': ''}, 'responseCode': 'OK', 'result': {'TrainingCertificate': {'osid': '1-4a18dccc-ca75-4213-b308-5a31657a98b2'}}}\n"
     ]
    }
   ],
   "source": [
    "print(resp.json())\n",
    "resp.status_code, userId\n",
    "idx = resp.json()[\"result\"][entity_name][\"osid\"]"
   ]
  },
  {
   "cell_type": "markdown",
   "id": "12c90402-5f3b-40e1-a73c-d3706987f43f",
   "metadata": {
    "pycharm": {
     "name": "#%% md\n"
    }
   },
   "source": [
    "# get entity"
   ]
  },
  {
   "cell_type": "code",
   "execution_count": 38,
   "id": "a138c2f3-4632-43f8-8832-57905bbf17f4",
   "metadata": {
    "pycharm": {
     "name": "#%%\n"
    }
   },
   "outputs": [
    {
     "name": "stdout",
     "output_type": "stream",
     "text": [
      "{\"@context\": [\"https://www.w3.org/2018/credentials/v1\", \"https://gist.githubusercontent.com/dileepbapat/eb932596a70f75016411cc871113a789/raw/498e5af1d94784f114b32c1ab827f951a8a24def/skill\"], \"type\": [\"VerifiableCredential\"], \"issuanceDate\": \"2021-08-27T10:57:57.237Z\", \"credentialSubject\": {\"type\": \"Person\", \"name\": \"Sunbird Learner\", \"trainedOn\": \"Sunbird RC Certificate Module\"}, \"issuer\": \"did:web:sunbirdrc.dev/vc/skill\", \"proof\": {\"type\": \"RsaSignature2018\", \"created\": \"2022-09-09T11:30:28Z\", \"verificationMethod\": \"did:india\", \"proofPurpose\": \"assertionMethod\", \"jws\": \"eyJhbGciOiJQUzI1NiIsImI2NCI6ZmFsc2UsImNyaXQiOlsiYjY0Il19..CB2dXHOPkUjXdOlnHiQ5njgJHUiC9pI_rYJeo4tlE-h2-D95lrCMHAJw-T3uuRt30BiK8EQarUl8JCWAXZoX5F4f-whLCmML0-8mRHj44r482diB4USGtd3ssu8u_3ydjQw_WKWhKC-Bzbb0vBHbjvuxdnoZ_YuOOpqkv7A93Ctkr-M65M-obsCzSC9LFGl40zS-JvYjVGpYiiQs3_HuhNIaP3Lygb5Ef0WP4pmk1HR0RilTyDTbCTgyLjmdPEQ7emzg6PZkJdoQNq-8kqxOqwlMI1U04c85HAlN8CyroRzkcNPSrruPkDUFPY2eBdmVMLzHqdYUPmvm68aer-4BfA\"}}\n"
     ]
    }
   ],
   "source": [
    "headers = {\n",
    "  'Content-Type': 'application/json',\n",
    "    'Authorization': 'Bearer ' + token,\n",
    "    \"Accept\":\"application/vc+ld+json\"\n",
    "}\n",
    "resp = requests.get(\"%sapi/v1/%s/%s\"%(registryBaseUrl, entity_name, idx), headers=headers)\n",
    "print(json.dumps(resp.json()))\n",
    "assert resp.json()[\"proof\"][\"type\"] == \"RsaSignature2018\"\n"
   ]
  },
  {
   "cell_type": "markdown",
   "id": "daa678a8-1176-43f3-9fc5-4f5d79a6bc65",
   "metadata": {
    "pycharm": {
     "name": "#%% md\n"
    }
   },
   "source": [
    "# get certificate pdf"
   ]
  },
  {
   "cell_type": "code",
   "execution_count": 39,
   "id": "0cd291cb-6ab8-4f20-b608-d857fc1bb060",
   "metadata": {
    "pycharm": {
     "name": "#%%\n"
    }
   },
   "outputs": [
    {
     "data": {
      "text/plain": [
       "[]"
      ]
     },
     "execution_count": 39,
     "metadata": {},
     "output_type": "execute_result"
    }
   ],
   "source": [
    "headers = {\n",
    "  'Content-Type': 'application/json',\n",
    "    'Authorization': 'Bearer ' + token,\n",
    "\"Accept\":\"application/pdf\", \n",
    "    \"template\": \"https://raw.githubusercontent.com/dileepbapat/ref-sunbirdrc-certificate/main/schemas/templates/TrainingCertificate.html\"\n",
    "}\n",
    "resp = requests.get(\"%s/api/v1/%s/%s\"%(registryBaseUrl, entity_name, idx), headers=headers)\n",
    "(resp.status_code, resp.content)\n",
    "\n",
    "assert resp.content[:5].decode().startswith(\"%PDF\")\n",
    "with open('sample.pdf', 'wb') as f:\n",
    "    f.write(resp.content)\n",
    "\n",
    "%system open 'sample.pdf'"
   ]
  },
  {
   "cell_type": "markdown",
   "id": "09260948-78f7-4067-9891-165b1b5ac255",
   "metadata": {
    "pycharm": {
     "name": "#%% md\n"
    }
   },
   "source": [
    "# Delete schema"
   ]
  },
  {
   "cell_type": "code",
   "execution_count": 40,
   "id": "46acfcb7-c158-4f1b-9608-49f557ff6ad9",
   "metadata": {
    "pycharm": {
     "name": "#%%\n"
    }
   },
   "outputs": [
    {
     "name": "stdout",
     "output_type": "stream",
     "text": [
      "<Response [200]>\n",
      "{'id': 'sunbird-rc.registry.delete', 'ver': '1.0', 'ets': 1662723038268, 'params': {'resmsgid': '', 'msgid': 'c9cad8a0-c11c-412a-af52-0f34f241e8e2', 'err': '', 'status': 'SUCCESSFUL', 'errmsg': ''}, 'responseCode': 'OK'}\n",
      "5\n"
     ]
    }
   ],
   "source": [
    "schemaRequestBody = {\n",
    "  \"entity\": \"Schema\",\n",
    "    \"filters\": {}\n",
    "}\n",
    "headers = {\n",
    "  'Content-Type': 'application/json',\n",
    "    'Authorization': 'Bearer ' + token\n",
    "}\n",
    "\n",
    "response = requests.request(\"DELETE\", registryUrl + \"Schema/\"+schemaOsid, headers=headers)\n",
    "print(response)\n",
    "print(response.json())\n",
    "print(len(response.json()))"
   ]
  },
  {
   "cell_type": "code",
   "execution_count": null,
   "id": "546f0c73-05c6-47f6-90c2-e3d914f1f320",
   "metadata": {
    "pycharm": {
     "name": "#%%\n"
    }
   },
   "outputs": [],
   "source": []
  }
 ],
 "metadata": {
  "kernelspec": {
   "display_name": "Python 3 (ipykernel)",
   "language": "python",
   "name": "python3"
  },
  "language_info": {
   "codemirror_mode": {
    "name": "ipython",
    "version": 3
   },
   "file_extension": ".py",
   "mimetype": "text/x-python",
   "name": "python",
   "nbconvert_exporter": "python",
   "pygments_lexer": "ipython3",
   "version": "3.9.13"
  }
 },
 "nbformat": 4,
 "nbformat_minor": 5
}
